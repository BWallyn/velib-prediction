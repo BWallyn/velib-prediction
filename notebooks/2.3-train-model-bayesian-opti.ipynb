{
 "cells": [
  {
   "cell_type": "markdown",
   "metadata": {},
   "source": [
    "# Train gradient boosting model using Bayesian optimization to find best hyperparameters"
   ]
  },
  {
   "cell_type": "markdown",
   "metadata": {},
   "source": [
    "# 1. Imports"
   ]
  },
  {
   "cell_type": "markdown",
   "metadata": {},
   "source": [
    "## 1.1 Packages"
   ]
  },
  {
   "cell_type": "code",
   "execution_count": 16,
   "metadata": {},
   "outputs": [],
   "source": [
    "import sys\n",
    "\n",
    "import pandas as pd\n"
   ]
  },
  {
   "cell_type": "markdown",
   "metadata": {},
   "source": [
    "## 1.2 Options"
   ]
  },
  {
   "cell_type": "code",
   "execution_count": 17,
   "metadata": {},
   "outputs": [
    {
     "name": "stdout",
     "output_type": "stream",
     "text": [
      "The autoreload extension is already loaded. To reload it, use:\n",
      "  %reload_ext autoreload\n"
     ]
    }
   ],
   "source": [
    "%load_ext autoreload\n",
    "%autoreload 2"
   ]
  },
  {
   "cell_type": "code",
   "execution_count": 18,
   "metadata": {},
   "outputs": [],
   "source": [
    "sys.path.append('../src')\n",
    "\n",
    "# from velib_prediction.pipelines.train_model.mlflow import (  # noqa: E402\n",
    "#     create_mlflow_experiment,\n",
    "# )\n",
    "from velib_prediction.pipelines.train_model.nodes import (  # noqa: E402\n",
    "    add_lags_sma,\n",
    "    get_split_train_val_cv,\n",
    "    # train_model_bayesian_opti,\n",
    "    train_model_mlflow,\n",
    ")\n"
   ]
  },
  {
   "cell_type": "code",
   "execution_count": 19,
   "metadata": {},
   "outputs": [],
   "source": [
    "lags_to_try = [1,]"
   ]
  },
  {
   "cell_type": "code",
   "execution_count": 20,
   "metadata": {},
   "outputs": [],
   "source": [
    "feat_date = \"duedate\""
   ]
  },
  {
   "cell_type": "markdown",
   "metadata": {},
   "source": [
    "## 1.3 Datasets"
   ]
  },
  {
   "cell_type": "code",
   "execution_count": 21,
   "metadata": {},
   "outputs": [
    {
     "data": {
      "text/html": [
       "<div>\n",
       "<style scoped>\n",
       "    .dataframe tbody tr th:only-of-type {\n",
       "        vertical-align: middle;\n",
       "    }\n",
       "\n",
       "    .dataframe tbody tr th {\n",
       "        vertical-align: top;\n",
       "    }\n",
       "\n",
       "    .dataframe thead th {\n",
       "        text-align: right;\n",
       "    }\n",
       "</style>\n",
       "<table border=\"1\" class=\"dataframe\">\n",
       "  <thead>\n",
       "    <tr style=\"text-align: right;\">\n",
       "      <th></th>\n",
       "      <th>idx</th>\n",
       "      <th>stationcode</th>\n",
       "      <th>is_installed</th>\n",
       "      <th>capacity</th>\n",
       "      <th>numdocksavailable</th>\n",
       "      <th>numbikesavailable</th>\n",
       "      <th>mechanical</th>\n",
       "      <th>ebike</th>\n",
       "      <th>is_renting</th>\n",
       "      <th>is_returning</th>\n",
       "      <th>duedate</th>\n",
       "      <th>code_insee_commune</th>\n",
       "      <th>duedate_year</th>\n",
       "      <th>duedate_month</th>\n",
       "      <th>duedate_day</th>\n",
       "      <th>duedate_weekday</th>\n",
       "      <th>duedate_weekend</th>\n",
       "    </tr>\n",
       "  </thead>\n",
       "  <tbody>\n",
       "    <tr>\n",
       "      <th>6</th>\n",
       "      <td>170261730403893</td>\n",
       "      <td>17026</td>\n",
       "      <td>1</td>\n",
       "      <td>40</td>\n",
       "      <td>35</td>\n",
       "      <td>4</td>\n",
       "      <td>1</td>\n",
       "      <td>3</td>\n",
       "      <td>1</td>\n",
       "      <td>1</td>\n",
       "      <td>2024-10-31 19:44:53+00:00</td>\n",
       "      <td>75056</td>\n",
       "      <td>2024</td>\n",
       "      <td>10</td>\n",
       "      <td>31</td>\n",
       "      <td>3</td>\n",
       "      <td>0</td>\n",
       "    </tr>\n",
       "    <tr>\n",
       "      <th>2</th>\n",
       "      <td>140141730322556</td>\n",
       "      <td>14014</td>\n",
       "      <td>1</td>\n",
       "      <td>60</td>\n",
       "      <td>49</td>\n",
       "      <td>10</td>\n",
       "      <td>5</td>\n",
       "      <td>5</td>\n",
       "      <td>1</td>\n",
       "      <td>1</td>\n",
       "      <td>2024-10-30 21:09:16+00:00</td>\n",
       "      <td>75056</td>\n",
       "      <td>2024</td>\n",
       "      <td>10</td>\n",
       "      <td>30</td>\n",
       "      <td>2</td>\n",
       "      <td>0</td>\n",
       "    </tr>\n",
       "  </tbody>\n",
       "</table>\n",
       "</div>"
      ],
      "text/plain": [
       "               idx stationcode  is_installed  capacity  numdocksavailable  \\\n",
       "6  170261730403893       17026             1        40                 35   \n",
       "2  140141730322556       14014             1        60                 49   \n",
       "\n",
       "   numbikesavailable  mechanical  ebike  is_renting  is_returning  \\\n",
       "6                  4           1      3           1             1   \n",
       "2                 10           5      5           1             1   \n",
       "\n",
       "                    duedate code_insee_commune  duedate_year  duedate_month  \\\n",
       "6 2024-10-31 19:44:53+00:00              75056          2024             10   \n",
       "2 2024-10-30 21:09:16+00:00              75056          2024             10   \n",
       "\n",
       "   duedate_day  duedate_weekday  duedate_weekend  \n",
       "6           31                3                0  \n",
       "2           30                2                0  "
      ]
     },
     "execution_count": 21,
     "metadata": {},
     "output_type": "execute_result"
    }
   ],
   "source": [
    "df_train = pd.read_parquet(\"../data/04_feature/df_feat_train.parquet\")\n",
    "df_train.sample(2)"
   ]
  },
  {
   "cell_type": "code",
   "execution_count": 22,
   "metadata": {},
   "outputs": [],
   "source": [
    "df_train.rename(columns={\"numbikesavailable\": \"target\"}, inplace=True)"
   ]
  },
  {
   "cell_type": "markdown",
   "metadata": {},
   "source": [
    "# 2. Prepare datasets"
   ]
  },
  {
   "cell_type": "code",
   "execution_count": 23,
   "metadata": {},
   "outputs": [],
   "source": [
    "# Add lags defined\n",
    "df_train = add_lags_sma(df_train, lags_to_try, feat_id='stationcode', feat_date=feat_date, feat_target=\"target\", n_shift=5)"
   ]
  },
  {
   "cell_type": "code",
   "execution_count": 24,
   "metadata": {},
   "outputs": [],
   "source": [
    "df_train.sort_values(by=\"duedate\", inplace=True)\n",
    "df_train.drop(columns=\"duedate\", inplace=True)"
   ]
  },
  {
   "cell_type": "code",
   "execution_count": 25,
   "metadata": {},
   "outputs": [],
   "source": [
    "list_df = get_split_train_val_cv(df_train, n_splits=2)"
   ]
  },
  {
   "cell_type": "code",
   "execution_count": 26,
   "metadata": {},
   "outputs": [],
   "source": [
    "df_train, df_valid = list_df[0][0], list_df[0][1]"
   ]
  },
  {
   "cell_type": "code",
   "execution_count": 27,
   "metadata": {},
   "outputs": [],
   "source": [
    "feat_cat = [\n",
    "    \"is_installed\",\n",
    "    \"is_renting\",\n",
    "    \"is_returning\",\n",
    "    \"code_insee_commune\",\n",
    "    \"duedate_weekend\",\n",
    "]"
   ]
  },
  {
   "cell_type": "markdown",
   "metadata": {},
   "source": [
    "# 3. Train model"
   ]
  },
  {
   "cell_type": "code",
   "execution_count": 28,
   "metadata": {},
   "outputs": [],
   "source": [
    "# experiment_id = create_mlflow_experiment(\n",
    "#     experiment_folder_path=\"../data/06_models/mlruns\",\n",
    "#     experiment_name=\"velib_prediction\"\n",
    "# )\n",
    "# experiment_id\n",
    "\n",
    "experiment_id = '587291553688351204'"
   ]
  },
  {
   "cell_type": "code",
   "execution_count": 29,
   "metadata": {},
   "outputs": [],
   "source": [
    "# search_params = {\n",
    "#     \"iterations\": (100, 500),\n",
    "#     \"depth\": (2, 7),\n",
    "# }\n",
    "\n",
    "params = {\n",
    "    \"iterations\": 100,\n",
    "    \"depth\": 4\n",
    "}"
   ]
  },
  {
   "cell_type": "code",
   "execution_count": 30,
   "metadata": {},
   "outputs": [
    {
     "name": "stderr",
     "output_type": "stream",
     "text": [
      "/Users/benjaminwallyn/Git/velib-prediction/.venv/lib/python3.11/site-packages/mlflow/types/utils.py:407: UserWarning: Hint: Inferred schema contains integer column(s). Integer columns in Python cannot represent missing values. If your input data contains missing values at inference time, it will be encoded as floats and will cause a schema enforcement error. The best way to avoid this problem is to infer the model schema based on a realistic data sample (training dataset) that includes missing values. Alternatively, you can declare integer columns as doubles (float64) whenever these columns may have missing values. See `Handling Integers With Missing Values <https://www.mlflow.org/docs/latest/models.html#handling-integers-with-missing-values>`_ for more details.\n",
      "  warnings.warn(\n",
      "2024/11/26 22:05:49 WARNING mlflow.models.signature: Failed to infer the model signature from the input example. Reason: MlflowException(\"Failed to enforce schema of data '                  idx stationcode  is_installed  capacity  numdocksavailable  \\\\\\n101    51101729384797        5110             1        23                 23   \\n754   110251729626717       11025             1        43                 11   \\n308    80501729457286        8050             1        45                 33   \\n109   141081729385146       14108             1        21                 18   \\n650   210101729594031       21010             1        25                 19   \\n458   130071729514996       13007             1        48                 40   \\n231   141111729431828       14111             1        25                 18   \\n49     80261729359881        8026             1        12                  2   \\n759   130071729626795       13007             1        48                 32   \\n1092  152021729760003       15202             1        30                 20   \\n\\n      mechanical  ebike  is_renting  is_returning code_insee_commune  \\\\\\n101            0      0           1             1              75056   \\n754           24      6           1             1              75056   \\n308           10      2           1             1              75056   \\n109            2      1           1             1              75056   \\n650            5      1           1             1              92012   \\n458            1      3           1             1              75056   \\n231            2      3           1             1              75056   \\n49             8      1           1             1              75056   \\n759            9      4           1             1              75056   \\n1092           4      6           1             1              75056   \\n\\n      duedate_year  duedate_month  duedate_day  duedate_weekday  \\\\\\n101           2024             10           20                6   \\n754           2024             10           22                1   \\n308           2024             10           20                6   \\n109           2024             10           20                6   \\n650           2024             10           22                1   \\n458           2024             10           21                0   \\n231           2024             10           20                6   \\n49            2024             10           19                5   \\n759           2024             10           22                1   \\n1092          2024             10           24                3   \\n\\n      duedate_weekend  sma_1_lag  \\n101                 1        NaN  \\n754                 0       40.0  \\n308                 1        NaN  \\n109                 1        NaN  \\n650                 0       14.0  \\n458                 0       22.0  \\n231                 1        7.0  \\n49                  1        NaN  \\n759                 0        2.0  \\n1092                0        1.0  ' with schema '['idx': string (required), 'stationcode': string (required), 'is_installed': long (required), 'capacity': long (required), 'numdocksavailable': long (required), 'mechanical': long (required), 'ebike': long (required), 'is_renting': long (required), 'is_returning': long (required), 'code_insee_commune': string (required), 'duedate_year': integer (required), 'duedate_month': integer (required), 'duedate_day': integer (required), 'duedate_weekday': integer (required), 'duedate_weekend': long (required), 'sma_1_lag': double (optional)]'. Error: Incompatible input types for column idx. Can not safely convert string to <U0.\"). To see the full traceback, set the logging level to DEBUG via `logging.getLogger(\"mlflow\").setLevel(logging.DEBUG)`. To disable automatic signature inference, set `signature` to `False` in your `log_model` or `save_model` call.\n"
     ]
    },
    {
     "data": {
      "application/vnd.jupyter.widget-view+json": {
       "model_id": "f4e37af839ec4753950beebb6b96305b",
       "version_major": 2,
       "version_minor": 0
      },
      "text/plain": [
       "Downloading artifacts:   0%|          | 0/7 [00:00<?, ?it/s]"
      ]
     },
     "metadata": {},
     "output_type": "display_data"
    },
    {
     "name": "stdout",
     "output_type": "stream",
     "text": [
      "RMSE train: 0.2992554793036776\n",
      "RMSE valid: 0.7423017662117376\n"
     ]
    }
   ],
   "source": [
    "# train_model_bayesian_opti(\n",
    "#     run_name=\"Test_catboost\",\n",
    "#     experiment_id=experiment_id,\n",
    "#     search_params=search_params,\n",
    "#     df_train=df_train,\n",
    "#     df_valid=df_valid,\n",
    "#     feat_cat=feat_cat,\n",
    "#     n_trials=10\n",
    "# )\n",
    "\n",
    "model, rmse_train, rmse_valid = train_model_mlflow(\n",
    "    experiment_id=experiment_id,\n",
    "    parent_run_id=None,\n",
    "    df_train=df_train,\n",
    "    df_valid=df_valid,\n",
    "    feat_cat=feat_cat,\n",
    "    **params\n",
    ")\n",
    "\n",
    "print(\"RMSE train:\", rmse_train)\n",
    "print(\"RMSE valid:\", rmse_valid)"
   ]
  },
  {
   "cell_type": "code",
   "execution_count": null,
   "metadata": {},
   "outputs": [],
   "source": []
  }
 ],
 "metadata": {
  "kernelspec": {
   "display_name": ".venv",
   "language": "python",
   "name": "python3"
  },
  "language_info": {
   "codemirror_mode": {
    "name": "ipython",
    "version": 3
   },
   "file_extension": ".py",
   "mimetype": "text/x-python",
   "name": "python",
   "nbconvert_exporter": "python",
   "pygments_lexer": "ipython3",
   "version": "3.11.8"
  }
 },
 "nbformat": 4,
 "nbformat_minor": 2
}
