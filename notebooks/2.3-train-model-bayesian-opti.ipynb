{
 "cells": [
  {
   "cell_type": "markdown",
   "metadata": {},
   "source": [
    "# Train gradient boosting model using Bayesian optimization to find best hyperparameters"
   ]
  },
  {
   "cell_type": "markdown",
   "metadata": {},
   "source": [
    "# 1. Imports"
   ]
  },
  {
   "cell_type": "markdown",
   "metadata": {},
   "source": [
    "## 1.1 Packages"
   ]
  },
  {
   "cell_type": "code",
   "execution_count": 14,
   "metadata": {},
   "outputs": [],
   "source": [
    "import sys\n",
    "\n",
    "import pandas as pd\n"
   ]
  },
  {
   "cell_type": "markdown",
   "metadata": {},
   "source": [
    "## 1.2 Options"
   ]
  },
  {
   "cell_type": "code",
   "execution_count": 15,
   "metadata": {},
   "outputs": [
    {
     "name": "stdout",
     "output_type": "stream",
     "text": [
      "The autoreload extension is already loaded. To reload it, use:\n",
      "  %reload_ext autoreload\n"
     ]
    }
   ],
   "source": [
    "%load_ext autoreload\n",
    "%autoreload 2"
   ]
  },
  {
   "cell_type": "code",
   "execution_count": 16,
   "metadata": {},
   "outputs": [],
   "source": [
    "sys.path.append('../src')\n",
    "\n",
    "# from velib_prediction.pipelines.train_model.mlflow import (  # noqa: E402\n",
    "#     create_mlflow_experiment,\n",
    "# )\n",
    "from velib_prediction.pipelines.train_model.nodes import (  # noqa: E402\n",
    "    add_lags_sma,\n",
    "    get_split_train_val_cv,\n",
    "    split_train_valid,\n",
    "    # train_model_bayesian_opti,\n",
    "    train_model_mlflow,\n",
    ")\n"
   ]
  },
  {
   "cell_type": "code",
   "execution_count": 17,
   "metadata": {},
   "outputs": [],
   "source": [
    "lags_to_try = [1,]"
   ]
  },
  {
   "cell_type": "code",
   "execution_count": 18,
   "metadata": {},
   "outputs": [],
   "source": [
    "feat_date = \"duedate\""
   ]
  },
  {
   "cell_type": "markdown",
   "metadata": {},
   "source": [
    "## 1.3 Datasets"
   ]
  },
  {
   "cell_type": "code",
   "execution_count": 19,
   "metadata": {},
   "outputs": [
    {
     "data": {
      "text/html": [
       "<div>\n",
       "<style scoped>\n",
       "    .dataframe tbody tr th:only-of-type {\n",
       "        vertical-align: middle;\n",
       "    }\n",
       "\n",
       "    .dataframe tbody tr th {\n",
       "        vertical-align: top;\n",
       "    }\n",
       "\n",
       "    .dataframe thead th {\n",
       "        text-align: right;\n",
       "    }\n",
       "</style>\n",
       "<table border=\"1\" class=\"dataframe\">\n",
       "  <thead>\n",
       "    <tr style=\"text-align: right;\">\n",
       "      <th></th>\n",
       "      <th>idx</th>\n",
       "      <th>stationcode</th>\n",
       "      <th>is_installed</th>\n",
       "      <th>capacity</th>\n",
       "      <th>numdocksavailable</th>\n",
       "      <th>numbikesavailable</th>\n",
       "      <th>mechanical</th>\n",
       "      <th>ebike</th>\n",
       "      <th>is_renting</th>\n",
       "      <th>is_returning</th>\n",
       "      <th>duedate</th>\n",
       "      <th>code_insee_commune</th>\n",
       "      <th>duedate_year</th>\n",
       "      <th>duedate_month</th>\n",
       "      <th>duedate_day</th>\n",
       "      <th>duedate_weekday</th>\n",
       "      <th>duedate_weekend</th>\n",
       "    </tr>\n",
       "  </thead>\n",
       "  <tbody>\n",
       "    <tr>\n",
       "      <th>7</th>\n",
       "      <td>110251729565473</td>\n",
       "      <td>11025</td>\n",
       "      <td>1</td>\n",
       "      <td>43</td>\n",
       "      <td>5</td>\n",
       "      <td>37</td>\n",
       "      <td>30</td>\n",
       "      <td>7</td>\n",
       "      <td>1</td>\n",
       "      <td>1</td>\n",
       "      <td>2024-10-22 02:51:13+00:00</td>\n",
       "      <td>75056</td>\n",
       "      <td>2024</td>\n",
       "      <td>10</td>\n",
       "      <td>22</td>\n",
       "      <td>1</td>\n",
       "      <td>0</td>\n",
       "    </tr>\n",
       "    <tr>\n",
       "      <th>8</th>\n",
       "      <td>170411729893708</td>\n",
       "      <td>17041</td>\n",
       "      <td>1</td>\n",
       "      <td>36</td>\n",
       "      <td>21</td>\n",
       "      <td>14</td>\n",
       "      <td>12</td>\n",
       "      <td>2</td>\n",
       "      <td>1</td>\n",
       "      <td>1</td>\n",
       "      <td>2024-10-25 22:01:48+00:00</td>\n",
       "      <td>75056</td>\n",
       "      <td>2024</td>\n",
       "      <td>10</td>\n",
       "      <td>25</td>\n",
       "      <td>4</td>\n",
       "      <td>0</td>\n",
       "    </tr>\n",
       "  </tbody>\n",
       "</table>\n",
       "</div>"
      ],
      "text/plain": [
       "               idx stationcode  is_installed  capacity  numdocksavailable  \\\n",
       "7  110251729565473       11025             1        43                  5   \n",
       "8  170411729893708       17041             1        36                 21   \n",
       "\n",
       "   numbikesavailable  mechanical  ebike  is_renting  is_returning  \\\n",
       "7                 37          30      7           1             1   \n",
       "8                 14          12      2           1             1   \n",
       "\n",
       "                    duedate code_insee_commune  duedate_year  duedate_month  \\\n",
       "7 2024-10-22 02:51:13+00:00              75056          2024             10   \n",
       "8 2024-10-25 22:01:48+00:00              75056          2024             10   \n",
       "\n",
       "   duedate_day  duedate_weekday  duedate_weekend  \n",
       "7           22                1                0  \n",
       "8           25                4                0  "
      ]
     },
     "execution_count": 19,
     "metadata": {},
     "output_type": "execute_result"
    }
   ],
   "source": [
    "df_training = pd.read_parquet(\"../data/04_feature/df_feat_train.parquet\")\n",
    "df_training.sample(2)"
   ]
  },
  {
   "cell_type": "code",
   "execution_count": 20,
   "metadata": {},
   "outputs": [],
   "source": [
    "df_training.rename(columns={\"numbikesavailable\": \"target\"}, inplace=True)"
   ]
  },
  {
   "cell_type": "code",
   "execution_count": 21,
   "metadata": {},
   "outputs": [
    {
     "data": {
      "text/html": [
       "<div>\n",
       "<style scoped>\n",
       "    .dataframe tbody tr th:only-of-type {\n",
       "        vertical-align: middle;\n",
       "    }\n",
       "\n",
       "    .dataframe tbody tr th {\n",
       "        vertical-align: top;\n",
       "    }\n",
       "\n",
       "    .dataframe thead th {\n",
       "        text-align: right;\n",
       "    }\n",
       "</style>\n",
       "<table border=\"1\" class=\"dataframe\">\n",
       "  <thead>\n",
       "    <tr style=\"text-align: right;\">\n",
       "      <th></th>\n",
       "      <th>idx</th>\n",
       "      <th>stationcode</th>\n",
       "      <th>is_installed</th>\n",
       "      <th>capacity</th>\n",
       "      <th>numdocksavailable</th>\n",
       "      <th>target</th>\n",
       "      <th>mechanical</th>\n",
       "      <th>ebike</th>\n",
       "      <th>is_renting</th>\n",
       "      <th>is_returning</th>\n",
       "      <th>duedate</th>\n",
       "      <th>code_insee_commune</th>\n",
       "      <th>duedate_year</th>\n",
       "      <th>duedate_month</th>\n",
       "      <th>duedate_day</th>\n",
       "      <th>duedate_weekday</th>\n",
       "      <th>duedate_weekend</th>\n",
       "    </tr>\n",
       "  </thead>\n",
       "  <tbody>\n",
       "    <tr>\n",
       "      <th>5</th>\n",
       "      <td>170411729666463</td>\n",
       "      <td>17041</td>\n",
       "      <td>1</td>\n",
       "      <td>36</td>\n",
       "      <td>28</td>\n",
       "      <td>8</td>\n",
       "      <td>8</td>\n",
       "      <td>0</td>\n",
       "      <td>1</td>\n",
       "      <td>1</td>\n",
       "      <td>2024-10-23 06:54:23+00:00</td>\n",
       "      <td>75056</td>\n",
       "      <td>2024</td>\n",
       "      <td>10</td>\n",
       "      <td>23</td>\n",
       "      <td>2</td>\n",
       "      <td>0</td>\n",
       "    </tr>\n",
       "    <tr>\n",
       "      <th>6</th>\n",
       "      <td>150471729666488</td>\n",
       "      <td>15047</td>\n",
       "      <td>1</td>\n",
       "      <td>52</td>\n",
       "      <td>48</td>\n",
       "      <td>2</td>\n",
       "      <td>2</td>\n",
       "      <td>0</td>\n",
       "      <td>1</td>\n",
       "      <td>1</td>\n",
       "      <td>2024-10-23 06:54:48+00:00</td>\n",
       "      <td>75056</td>\n",
       "      <td>2024</td>\n",
       "      <td>10</td>\n",
       "      <td>23</td>\n",
       "      <td>2</td>\n",
       "      <td>0</td>\n",
       "    </tr>\n",
       "    <tr>\n",
       "      <th>7</th>\n",
       "      <td>121091729666278</td>\n",
       "      <td>12109</td>\n",
       "      <td>1</td>\n",
       "      <td>30</td>\n",
       "      <td>22</td>\n",
       "      <td>8</td>\n",
       "      <td>6</td>\n",
       "      <td>2</td>\n",
       "      <td>1</td>\n",
       "      <td>1</td>\n",
       "      <td>2024-10-23 06:51:18+00:00</td>\n",
       "      <td>75056</td>\n",
       "      <td>2024</td>\n",
       "      <td>10</td>\n",
       "      <td>23</td>\n",
       "      <td>2</td>\n",
       "      <td>0</td>\n",
       "    </tr>\n",
       "    <tr>\n",
       "      <th>8</th>\n",
       "      <td>141081729666376</td>\n",
       "      <td>14108</td>\n",
       "      <td>1</td>\n",
       "      <td>21</td>\n",
       "      <td>17</td>\n",
       "      <td>3</td>\n",
       "      <td>2</td>\n",
       "      <td>1</td>\n",
       "      <td>1</td>\n",
       "      <td>1</td>\n",
       "      <td>2024-10-23 06:52:56+00:00</td>\n",
       "      <td>75056</td>\n",
       "      <td>2024</td>\n",
       "      <td>10</td>\n",
       "      <td>23</td>\n",
       "      <td>2</td>\n",
       "      <td>0</td>\n",
       "    </tr>\n",
       "    <tr>\n",
       "      <th>9</th>\n",
       "      <td>161381729666193</td>\n",
       "      <td>16138</td>\n",
       "      <td>1</td>\n",
       "      <td>30</td>\n",
       "      <td>15</td>\n",
       "      <td>14</td>\n",
       "      <td>10</td>\n",
       "      <td>4</td>\n",
       "      <td>1</td>\n",
       "      <td>1</td>\n",
       "      <td>2024-10-23 06:49:53+00:00</td>\n",
       "      <td>75056</td>\n",
       "      <td>2024</td>\n",
       "      <td>10</td>\n",
       "      <td>23</td>\n",
       "      <td>2</td>\n",
       "      <td>0</td>\n",
       "    </tr>\n",
       "  </tbody>\n",
       "</table>\n",
       "</div>"
      ],
      "text/plain": [
       "               idx stationcode  is_installed  capacity  numdocksavailable  \\\n",
       "5  170411729666463       17041             1        36                 28   \n",
       "6  150471729666488       15047             1        52                 48   \n",
       "7  121091729666278       12109             1        30                 22   \n",
       "8  141081729666376       14108             1        21                 17   \n",
       "9  161381729666193       16138             1        30                 15   \n",
       "\n",
       "   target  mechanical  ebike  is_renting  is_returning  \\\n",
       "5       8           8      0           1             1   \n",
       "6       2           2      0           1             1   \n",
       "7       8           6      2           1             1   \n",
       "8       3           2      1           1             1   \n",
       "9      14          10      4           1             1   \n",
       "\n",
       "                    duedate code_insee_commune  duedate_year  duedate_month  \\\n",
       "5 2024-10-23 06:54:23+00:00              75056          2024             10   \n",
       "6 2024-10-23 06:54:48+00:00              75056          2024             10   \n",
       "7 2024-10-23 06:51:18+00:00              75056          2024             10   \n",
       "8 2024-10-23 06:52:56+00:00              75056          2024             10   \n",
       "9 2024-10-23 06:49:53+00:00              75056          2024             10   \n",
       "\n",
       "   duedate_day  duedate_weekday  duedate_weekend  \n",
       "5           23                2                0  \n",
       "6           23                2                0  \n",
       "7           23                2                0  \n",
       "8           23                2                0  \n",
       "9           23                2                0  "
      ]
     },
     "execution_count": 21,
     "metadata": {},
     "output_type": "execute_result"
    }
   ],
   "source": [
    "df_training.tail()"
   ]
  },
  {
   "cell_type": "markdown",
   "metadata": {},
   "source": [
    "# 2. Prepare datasets"
   ]
  },
  {
   "cell_type": "code",
   "execution_count": 22,
   "metadata": {},
   "outputs": [],
   "source": [
    "# Add lags defined\n",
    "df_training = add_lags_sma(df_training, lags_to_try, feat_id='stationcode', feat_date=feat_date, feat_target=\"target\", n_shift=5)"
   ]
  },
  {
   "cell_type": "code",
   "execution_count": 23,
   "metadata": {},
   "outputs": [],
   "source": [
    "df_training.sort_values(by=\"duedate\", inplace=True)"
   ]
  },
  {
   "cell_type": "code",
   "execution_count": 24,
   "metadata": {},
   "outputs": [],
   "source": [
    "# df_training.drop(columns=\"duedate\", inplace=True)\n",
    "# list_df = get_split_train_val_cv(df_training, n_splits=2)"
   ]
  },
  {
   "cell_type": "code",
   "execution_count": 25,
   "metadata": {},
   "outputs": [
    {
     "data": {
      "text/plain": [
       "<StringArray>\n",
       "['100131730315685', '110251730746766', '111041730739229', '111041730746799',\n",
       " '121091730739548', '130071730721289', '130071730725164', '131011730739460',\n",
       " '131181730315330', '140141730746680', '141081730649363', '141111730721327',\n",
       " '141111730725161', '150471730724617', '150681730156632', '152021730725089',\n",
       " '161071730720977', '161381730710697', '170251730533538', '170261730657809',\n",
       " '170261730667239', '170411730710650', '170441730739499', '190271730436581',\n",
       " '190331730724706', '190331730739553', '201431730616370',  '20171730315605',\n",
       "  '20221730725147',  '20221730739586', '210101730721502', '210101730725112',\n",
       "  '50161730739248',  '50161730746627',  '51101730746760',  '60031730746806',\n",
       "  '60211730739513',  '61081730739563',  '61081730746587',  '70021730742869',\n",
       "  '70031730746756',  '80261730746814',  '80501730710741',  '80501730725157',\n",
       "  '81031730315677',  '90201730739502']\n",
       "Length: 46, dtype: string"
      ]
     },
     "execution_count": 25,
     "metadata": {},
     "output_type": "execute_result"
    }
   ],
   "source": [
    "def _filter_last_hours(group, n_hours: int=5):\n",
    "    \"\"\"\n",
    "    \"\"\"\n",
    "    last_hours = group[\"duedate\"].max() - pd.Timedelta(hours=n_hours)\n",
    "    return group[group[\"duedate\"] >= last_hours]\n",
    "\n",
    "\n",
    "df = df_training.sort_values([\"stationcode\", \"duedate\"], ascending=[True, True])\n",
    "df.groupby('stationcode').apply(_filter_last_hours, n_hours=5).reset_index(drop=True)[\"idx\"].values"
   ]
  },
  {
   "cell_type": "code",
   "execution_count": null,
   "metadata": {},
   "outputs": [],
   "source": [
    "df"
   ]
  },
  {
   "cell_type": "code",
   "execution_count": 27,
   "metadata": {},
   "outputs": [
    {
     "data": {
      "text/plain": [
       "6    100131730315685\n",
       "7    110251729352699\n",
       "6    110251729356310\n",
       "5    110251729363427\n",
       "6    110251729377872\n",
       "          ...       \n",
       "0     90201730657755\n",
       "0     90201730657755\n",
       "0     90201730665294\n",
       "0     90201730667493\n",
       "0     90201730739502\n",
       "Name: idx, Length: 3620, dtype: string"
      ]
     },
     "execution_count": 27,
     "metadata": {},
     "output_type": "execute_result"
    }
   ],
   "source": [
    "df[\"idx\"]"
   ]
  },
  {
   "cell_type": "code",
   "execution_count": 13,
   "metadata": {},
   "outputs": [
    {
     "ename": "KeyError",
     "evalue": "\"None of [Index(['100131730315685', '110251730746766', '111041730739229',\\n       '111041730746799', '121091730739548', '130071730721289',\\n       '130071730725164', '131011730739460', '131181730315330',\\n       '140141730746680', '141081730649363', '141111730721327',\\n       '141111730725161', '150471730724617', '150681730156632',\\n       '152021730725089', '161071730720977', '161381730710697',\\n       '170251730533538', '170261730657809', '170261730667239',\\n       '170411730710650', '170441730739499', '190271730436581',\\n       '190331730724706', '190331730739553', '201431730616370',\\n       '20171730315605', '20221730725147', '20221730739586', '210101730721502',\\n       '210101730725112', '50161730739248', '50161730746627', '51101730746760',\\n       '60031730746806', '60211730739513', '61081730739563', '61081730746587',\\n       '70021730742869', '70031730746756', '80261730746814', '80501730710741',\\n       '80501730725157', '81031730315677', '90201730739502'],\\n      dtype='object')] are in the [index]\"",
     "output_type": "error",
     "traceback": [
      "\u001b[0;31m---------------------------------------------------------------------------\u001b[0m",
      "\u001b[0;31mKeyError\u001b[0m                                  Traceback (most recent call last)",
      "Cell \u001b[0;32mIn[13], line 3\u001b[0m\n\u001b[1;32m      1\u001b[0m \u001b[38;5;66;03m# df_train, df_valid = list_df[0][0], list_df[0][1]\u001b[39;00m\n\u001b[0;32m----> 3\u001b[0m df_train, df_valif \u001b[38;5;241m=\u001b[39m \u001b[43msplit_train_valid\u001b[49m\u001b[43m(\u001b[49m\u001b[43mdf_training\u001b[49m\u001b[43m,\u001b[49m\u001b[43m \u001b[49m\u001b[43mn_hours\u001b[49m\u001b[38;5;241;43m=\u001b[39;49m\u001b[38;5;241;43m5\u001b[39;49m\u001b[43m)\u001b[49m\n",
      "File \u001b[0;32m~/Git/velib-prediction/src/velib_prediction/pipelines/train_model/nodes.py:97\u001b[0m, in \u001b[0;36msplit_train_valid\u001b[0;34m(df, n_hours)\u001b[0m\n\u001b[1;32m     95\u001b[0m df_sel \u001b[38;5;241m=\u001b[39m df\u001b[38;5;241m.\u001b[39msort_values([\u001b[38;5;124m\"\u001b[39m\u001b[38;5;124mstationcode\u001b[39m\u001b[38;5;124m\"\u001b[39m, \u001b[38;5;124m\"\u001b[39m\u001b[38;5;124mduedate\u001b[39m\u001b[38;5;124m\"\u001b[39m], ascending\u001b[38;5;241m=\u001b[39m[\u001b[38;5;28;01mTrue\u001b[39;00m, \u001b[38;5;28;01mTrue\u001b[39;00m])\n\u001b[1;32m     96\u001b[0m df_valid_index \u001b[38;5;241m=\u001b[39m df_sel\u001b[38;5;241m.\u001b[39mgroupby(\u001b[38;5;124m'\u001b[39m\u001b[38;5;124mstationcode\u001b[39m\u001b[38;5;124m'\u001b[39m)\u001b[38;5;241m.\u001b[39mapply(_filter_last_hours, n_hours\u001b[38;5;241m=\u001b[39m\u001b[38;5;241m5\u001b[39m)\u001b[38;5;241m.\u001b[39mreset_index(drop\u001b[38;5;241m=\u001b[39m\u001b[38;5;28;01mTrue\u001b[39;00m)[\u001b[38;5;124m\"\u001b[39m\u001b[38;5;124midx\u001b[39m\u001b[38;5;124m\"\u001b[39m]\u001b[38;5;241m.\u001b[39mvalues\n\u001b[0;32m---> 97\u001b[0m df_valid \u001b[38;5;241m=\u001b[39m \u001b[43mdf\u001b[49m\u001b[38;5;241;43m.\u001b[39;49m\u001b[43mloc\u001b[49m\u001b[43m[\u001b[49m\u001b[43mdf_valid_index\u001b[49m\u001b[43m]\u001b[49m\n\u001b[1;32m     98\u001b[0m df_train \u001b[38;5;241m=\u001b[39m df\u001b[38;5;241m.\u001b[39mloc[\u001b[38;5;241m~\u001b[39mdf_valid_index]\n\u001b[1;32m     99\u001b[0m \u001b[38;5;28;01mreturn\u001b[39;00m df_train, df_valid\n",
      "File \u001b[0;32m~/Git/velib-prediction/.venv/lib/python3.11/site-packages/pandas/core/indexing.py:1153\u001b[0m, in \u001b[0;36m_LocationIndexer.__getitem__\u001b[0;34m(self, key)\u001b[0m\n\u001b[1;32m   1150\u001b[0m axis \u001b[38;5;241m=\u001b[39m \u001b[38;5;28mself\u001b[39m\u001b[38;5;241m.\u001b[39maxis \u001b[38;5;129;01mor\u001b[39;00m \u001b[38;5;241m0\u001b[39m\n\u001b[1;32m   1152\u001b[0m maybe_callable \u001b[38;5;241m=\u001b[39m com\u001b[38;5;241m.\u001b[39mapply_if_callable(key, \u001b[38;5;28mself\u001b[39m\u001b[38;5;241m.\u001b[39mobj)\n\u001b[0;32m-> 1153\u001b[0m \u001b[38;5;28;01mreturn\u001b[39;00m \u001b[38;5;28;43mself\u001b[39;49m\u001b[38;5;241;43m.\u001b[39;49m\u001b[43m_getitem_axis\u001b[49m\u001b[43m(\u001b[49m\u001b[43mmaybe_callable\u001b[49m\u001b[43m,\u001b[49m\u001b[43m \u001b[49m\u001b[43maxis\u001b[49m\u001b[38;5;241;43m=\u001b[39;49m\u001b[43maxis\u001b[49m\u001b[43m)\u001b[49m\n",
      "File \u001b[0;32m~/Git/velib-prediction/.venv/lib/python3.11/site-packages/pandas/core/indexing.py:1382\u001b[0m, in \u001b[0;36m_LocIndexer._getitem_axis\u001b[0;34m(self, key, axis)\u001b[0m\n\u001b[1;32m   1379\u001b[0m     \u001b[38;5;28;01mif\u001b[39;00m \u001b[38;5;28mhasattr\u001b[39m(key, \u001b[38;5;124m\"\u001b[39m\u001b[38;5;124mndim\u001b[39m\u001b[38;5;124m\"\u001b[39m) \u001b[38;5;129;01mand\u001b[39;00m key\u001b[38;5;241m.\u001b[39mndim \u001b[38;5;241m>\u001b[39m \u001b[38;5;241m1\u001b[39m:\n\u001b[1;32m   1380\u001b[0m         \u001b[38;5;28;01mraise\u001b[39;00m \u001b[38;5;167;01mValueError\u001b[39;00m(\u001b[38;5;124m\"\u001b[39m\u001b[38;5;124mCannot index with multidimensional key\u001b[39m\u001b[38;5;124m\"\u001b[39m)\n\u001b[0;32m-> 1382\u001b[0m     \u001b[38;5;28;01mreturn\u001b[39;00m \u001b[38;5;28;43mself\u001b[39;49m\u001b[38;5;241;43m.\u001b[39;49m\u001b[43m_getitem_iterable\u001b[49m\u001b[43m(\u001b[49m\u001b[43mkey\u001b[49m\u001b[43m,\u001b[49m\u001b[43m \u001b[49m\u001b[43maxis\u001b[49m\u001b[38;5;241;43m=\u001b[39;49m\u001b[43maxis\u001b[49m\u001b[43m)\u001b[49m\n\u001b[1;32m   1384\u001b[0m \u001b[38;5;66;03m# nested tuple slicing\u001b[39;00m\n\u001b[1;32m   1385\u001b[0m \u001b[38;5;28;01mif\u001b[39;00m is_nested_tuple(key, labels):\n",
      "File \u001b[0;32m~/Git/velib-prediction/.venv/lib/python3.11/site-packages/pandas/core/indexing.py:1322\u001b[0m, in \u001b[0;36m_LocIndexer._getitem_iterable\u001b[0;34m(self, key, axis)\u001b[0m\n\u001b[1;32m   1319\u001b[0m \u001b[38;5;28mself\u001b[39m\u001b[38;5;241m.\u001b[39m_validate_key(key, axis)\n\u001b[1;32m   1321\u001b[0m \u001b[38;5;66;03m# A collection of keys\u001b[39;00m\n\u001b[0;32m-> 1322\u001b[0m keyarr, indexer \u001b[38;5;241m=\u001b[39m \u001b[38;5;28;43mself\u001b[39;49m\u001b[38;5;241;43m.\u001b[39;49m\u001b[43m_get_listlike_indexer\u001b[49m\u001b[43m(\u001b[49m\u001b[43mkey\u001b[49m\u001b[43m,\u001b[49m\u001b[43m \u001b[49m\u001b[43maxis\u001b[49m\u001b[43m)\u001b[49m\n\u001b[1;32m   1323\u001b[0m \u001b[38;5;28;01mreturn\u001b[39;00m \u001b[38;5;28mself\u001b[39m\u001b[38;5;241m.\u001b[39mobj\u001b[38;5;241m.\u001b[39m_reindex_with_indexers(\n\u001b[1;32m   1324\u001b[0m     {axis: [keyarr, indexer]}, copy\u001b[38;5;241m=\u001b[39m\u001b[38;5;28;01mTrue\u001b[39;00m, allow_dups\u001b[38;5;241m=\u001b[39m\u001b[38;5;28;01mTrue\u001b[39;00m\n\u001b[1;32m   1325\u001b[0m )\n",
      "File \u001b[0;32m~/Git/velib-prediction/.venv/lib/python3.11/site-packages/pandas/core/indexing.py:1520\u001b[0m, in \u001b[0;36m_LocIndexer._get_listlike_indexer\u001b[0;34m(self, key, axis)\u001b[0m\n\u001b[1;32m   1517\u001b[0m ax \u001b[38;5;241m=\u001b[39m \u001b[38;5;28mself\u001b[39m\u001b[38;5;241m.\u001b[39mobj\u001b[38;5;241m.\u001b[39m_get_axis(axis)\n\u001b[1;32m   1518\u001b[0m axis_name \u001b[38;5;241m=\u001b[39m \u001b[38;5;28mself\u001b[39m\u001b[38;5;241m.\u001b[39mobj\u001b[38;5;241m.\u001b[39m_get_axis_name(axis)\n\u001b[0;32m-> 1520\u001b[0m keyarr, indexer \u001b[38;5;241m=\u001b[39m \u001b[43max\u001b[49m\u001b[38;5;241;43m.\u001b[39;49m\u001b[43m_get_indexer_strict\u001b[49m\u001b[43m(\u001b[49m\u001b[43mkey\u001b[49m\u001b[43m,\u001b[49m\u001b[43m \u001b[49m\u001b[43maxis_name\u001b[49m\u001b[43m)\u001b[49m\n\u001b[1;32m   1522\u001b[0m \u001b[38;5;28;01mreturn\u001b[39;00m keyarr, indexer\n",
      "File \u001b[0;32m~/Git/velib-prediction/.venv/lib/python3.11/site-packages/pandas/core/indexes/base.py:6115\u001b[0m, in \u001b[0;36mIndex._get_indexer_strict\u001b[0;34m(self, key, axis_name)\u001b[0m\n\u001b[1;32m   6112\u001b[0m \u001b[38;5;28;01melse\u001b[39;00m:\n\u001b[1;32m   6113\u001b[0m     keyarr, indexer, new_indexer \u001b[38;5;241m=\u001b[39m \u001b[38;5;28mself\u001b[39m\u001b[38;5;241m.\u001b[39m_reindex_non_unique(keyarr)\n\u001b[0;32m-> 6115\u001b[0m \u001b[38;5;28;43mself\u001b[39;49m\u001b[38;5;241;43m.\u001b[39;49m\u001b[43m_raise_if_missing\u001b[49m\u001b[43m(\u001b[49m\u001b[43mkeyarr\u001b[49m\u001b[43m,\u001b[49m\u001b[43m \u001b[49m\u001b[43mindexer\u001b[49m\u001b[43m,\u001b[49m\u001b[43m \u001b[49m\u001b[43maxis_name\u001b[49m\u001b[43m)\u001b[49m\n\u001b[1;32m   6117\u001b[0m keyarr \u001b[38;5;241m=\u001b[39m \u001b[38;5;28mself\u001b[39m\u001b[38;5;241m.\u001b[39mtake(indexer)\n\u001b[1;32m   6118\u001b[0m \u001b[38;5;28;01mif\u001b[39;00m \u001b[38;5;28misinstance\u001b[39m(key, Index):\n\u001b[1;32m   6119\u001b[0m     \u001b[38;5;66;03m# GH 42790 - Preserve name from an Index\u001b[39;00m\n",
      "File \u001b[0;32m~/Git/velib-prediction/.venv/lib/python3.11/site-packages/pandas/core/indexes/base.py:6176\u001b[0m, in \u001b[0;36mIndex._raise_if_missing\u001b[0;34m(self, key, indexer, axis_name)\u001b[0m\n\u001b[1;32m   6174\u001b[0m     \u001b[38;5;28;01mif\u001b[39;00m use_interval_msg:\n\u001b[1;32m   6175\u001b[0m         key \u001b[38;5;241m=\u001b[39m \u001b[38;5;28mlist\u001b[39m(key)\n\u001b[0;32m-> 6176\u001b[0m     \u001b[38;5;28;01mraise\u001b[39;00m \u001b[38;5;167;01mKeyError\u001b[39;00m(\u001b[38;5;124mf\u001b[39m\u001b[38;5;124m\"\u001b[39m\u001b[38;5;124mNone of [\u001b[39m\u001b[38;5;132;01m{\u001b[39;00mkey\u001b[38;5;132;01m}\u001b[39;00m\u001b[38;5;124m] are in the [\u001b[39m\u001b[38;5;132;01m{\u001b[39;00maxis_name\u001b[38;5;132;01m}\u001b[39;00m\u001b[38;5;124m]\u001b[39m\u001b[38;5;124m\"\u001b[39m)\n\u001b[1;32m   6178\u001b[0m not_found \u001b[38;5;241m=\u001b[39m \u001b[38;5;28mlist\u001b[39m(ensure_index(key)[missing_mask\u001b[38;5;241m.\u001b[39mnonzero()[\u001b[38;5;241m0\u001b[39m]]\u001b[38;5;241m.\u001b[39munique())\n\u001b[1;32m   6179\u001b[0m \u001b[38;5;28;01mraise\u001b[39;00m \u001b[38;5;167;01mKeyError\u001b[39;00m(\u001b[38;5;124mf\u001b[39m\u001b[38;5;124m\"\u001b[39m\u001b[38;5;132;01m{\u001b[39;00mnot_found\u001b[38;5;132;01m}\u001b[39;00m\u001b[38;5;124m not in index\u001b[39m\u001b[38;5;124m\"\u001b[39m)\n",
      "\u001b[0;31mKeyError\u001b[0m: \"None of [Index(['100131730315685', '110251730746766', '111041730739229',\\n       '111041730746799', '121091730739548', '130071730721289',\\n       '130071730725164', '131011730739460', '131181730315330',\\n       '140141730746680', '141081730649363', '141111730721327',\\n       '141111730725161', '150471730724617', '150681730156632',\\n       '152021730725089', '161071730720977', '161381730710697',\\n       '170251730533538', '170261730657809', '170261730667239',\\n       '170411730710650', '170441730739499', '190271730436581',\\n       '190331730724706', '190331730739553', '201431730616370',\\n       '20171730315605', '20221730725147', '20221730739586', '210101730721502',\\n       '210101730725112', '50161730739248', '50161730746627', '51101730746760',\\n       '60031730746806', '60211730739513', '61081730739563', '61081730746587',\\n       '70021730742869', '70031730746756', '80261730746814', '80501730710741',\\n       '80501730725157', '81031730315677', '90201730739502'],\\n      dtype='object')] are in the [index]\""
     ]
    }
   ],
   "source": [
    "# df_train, df_valid = list_df[0][0], list_df[0][1]\n",
    "\n",
    "df_train, df_valif = split_train_valid(df_training, n_hours=5)"
   ]
  },
  {
   "cell_type": "code",
   "execution_count": 27,
   "metadata": {},
   "outputs": [],
   "source": [
    "feat_cat = [\n",
    "    \"is_installed\",\n",
    "    \"is_renting\",\n",
    "    \"is_returning\",\n",
    "    \"code_insee_commune\",\n",
    "    \"duedate_weekend\",\n",
    "]"
   ]
  },
  {
   "cell_type": "markdown",
   "metadata": {},
   "source": [
    "# 3. Train model"
   ]
  },
  {
   "cell_type": "code",
   "execution_count": 28,
   "metadata": {},
   "outputs": [],
   "source": [
    "# experiment_id = create_mlflow_experiment(\n",
    "#     experiment_folder_path=\"../data/06_models/mlruns\",\n",
    "#     experiment_name=\"velib_prediction\"\n",
    "# )\n",
    "# experiment_id\n",
    "\n",
    "experiment_id = '587291553688351204'"
   ]
  },
  {
   "cell_type": "code",
   "execution_count": 29,
   "metadata": {},
   "outputs": [],
   "source": [
    "# search_params = {\n",
    "#     \"iterations\": (100, 500),\n",
    "#     \"depth\": (2, 7),\n",
    "# }\n",
    "\n",
    "params = {\n",
    "    \"iterations\": 100,\n",
    "    \"depth\": 4\n",
    "}"
   ]
  },
  {
   "cell_type": "code",
   "execution_count": 30,
   "metadata": {},
   "outputs": [
    {
     "name": "stderr",
     "output_type": "stream",
     "text": [
      "/Users/benjaminwallyn/Git/velib-prediction/.venv/lib/python3.11/site-packages/mlflow/types/utils.py:407: UserWarning: Hint: Inferred schema contains integer column(s). Integer columns in Python cannot represent missing values. If your input data contains missing values at inference time, it will be encoded as floats and will cause a schema enforcement error. The best way to avoid this problem is to infer the model schema based on a realistic data sample (training dataset) that includes missing values. Alternatively, you can declare integer columns as doubles (float64) whenever these columns may have missing values. See `Handling Integers With Missing Values <https://www.mlflow.org/docs/latest/models.html#handling-integers-with-missing-values>`_ for more details.\n",
      "  warnings.warn(\n",
      "2024/11/26 22:05:49 WARNING mlflow.models.signature: Failed to infer the model signature from the input example. Reason: MlflowException(\"Failed to enforce schema of data '                  idx stationcode  is_installed  capacity  numdocksavailable  \\\\\\n101    51101729384797        5110             1        23                 23   \\n754   110251729626717       11025             1        43                 11   \\n308    80501729457286        8050             1        45                 33   \\n109   141081729385146       14108             1        21                 18   \\n650   210101729594031       21010             1        25                 19   \\n458   130071729514996       13007             1        48                 40   \\n231   141111729431828       14111             1        25                 18   \\n49     80261729359881        8026             1        12                  2   \\n759   130071729626795       13007             1        48                 32   \\n1092  152021729760003       15202             1        30                 20   \\n\\n      mechanical  ebike  is_renting  is_returning code_insee_commune  \\\\\\n101            0      0           1             1              75056   \\n754           24      6           1             1              75056   \\n308           10      2           1             1              75056   \\n109            2      1           1             1              75056   \\n650            5      1           1             1              92012   \\n458            1      3           1             1              75056   \\n231            2      3           1             1              75056   \\n49             8      1           1             1              75056   \\n759            9      4           1             1              75056   \\n1092           4      6           1             1              75056   \\n\\n      duedate_year  duedate_month  duedate_day  duedate_weekday  \\\\\\n101           2024             10           20                6   \\n754           2024             10           22                1   \\n308           2024             10           20                6   \\n109           2024             10           20                6   \\n650           2024             10           22                1   \\n458           2024             10           21                0   \\n231           2024             10           20                6   \\n49            2024             10           19                5   \\n759           2024             10           22                1   \\n1092          2024             10           24                3   \\n\\n      duedate_weekend  sma_1_lag  \\n101                 1        NaN  \\n754                 0       40.0  \\n308                 1        NaN  \\n109                 1        NaN  \\n650                 0       14.0  \\n458                 0       22.0  \\n231                 1        7.0  \\n49                  1        NaN  \\n759                 0        2.0  \\n1092                0        1.0  ' with schema '['idx': string (required), 'stationcode': string (required), 'is_installed': long (required), 'capacity': long (required), 'numdocksavailable': long (required), 'mechanical': long (required), 'ebike': long (required), 'is_renting': long (required), 'is_returning': long (required), 'code_insee_commune': string (required), 'duedate_year': integer (required), 'duedate_month': integer (required), 'duedate_day': integer (required), 'duedate_weekday': integer (required), 'duedate_weekend': long (required), 'sma_1_lag': double (optional)]'. Error: Incompatible input types for column idx. Can not safely convert string to <U0.\"). To see the full traceback, set the logging level to DEBUG via `logging.getLogger(\"mlflow\").setLevel(logging.DEBUG)`. To disable automatic signature inference, set `signature` to `False` in your `log_model` or `save_model` call.\n"
     ]
    },
    {
     "data": {
      "application/vnd.jupyter.widget-view+json": {
       "model_id": "f4e37af839ec4753950beebb6b96305b",
       "version_major": 2,
       "version_minor": 0
      },
      "text/plain": [
       "Downloading artifacts:   0%|          | 0/7 [00:00<?, ?it/s]"
      ]
     },
     "metadata": {},
     "output_type": "display_data"
    },
    {
     "name": "stdout",
     "output_type": "stream",
     "text": [
      "RMSE train: 0.2992554793036776\n",
      "RMSE valid: 0.7423017662117376\n"
     ]
    }
   ],
   "source": [
    "# train_model_bayesian_opti(\n",
    "#     run_name=\"Test_catboost\",\n",
    "#     experiment_id=experiment_id,\n",
    "#     search_params=search_params,\n",
    "#     df_train=df_train,\n",
    "#     df_valid=df_valid,\n",
    "#     feat_cat=feat_cat,\n",
    "#     n_trials=10\n",
    "# )\n",
    "\n",
    "model, rmse_train, rmse_valid = train_model_mlflow(\n",
    "    experiment_id=experiment_id,\n",
    "    parent_run_id=None,\n",
    "    df_train=df_train,\n",
    "    df_valid=df_valid,\n",
    "    feat_cat=feat_cat,\n",
    "    **params\n",
    ")\n",
    "\n",
    "print(\"RMSE train:\", rmse_train)\n",
    "print(\"RMSE valid:\", rmse_valid)"
   ]
  },
  {
   "cell_type": "code",
   "execution_count": null,
   "metadata": {},
   "outputs": [],
   "source": []
  }
 ],
 "metadata": {
  "kernelspec": {
   "display_name": ".venv",
   "language": "python",
   "name": "python3"
  },
  "language_info": {
   "codemirror_mode": {
    "name": "ipython",
    "version": 3
   },
   "file_extension": ".py",
   "mimetype": "text/x-python",
   "name": "python",
   "nbconvert_exporter": "python",
   "pygments_lexer": "ipython3",
   "version": "3.11.8"
  }
 },
 "nbformat": 4,
 "nbformat_minor": 2
}
