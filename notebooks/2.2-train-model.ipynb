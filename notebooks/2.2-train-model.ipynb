{
 "cells": [
  {
   "cell_type": "markdown",
   "metadata": {},
   "source": [
    "# Train gradient boosting model"
   ]
  },
  {
   "cell_type": "markdown",
   "metadata": {},
   "source": [
    "# 1. Imports"
   ]
  },
  {
   "cell_type": "markdown",
   "metadata": {},
   "source": [
    "## 1.1 Packages"
   ]
  },
  {
   "cell_type": "code",
   "execution_count": 60,
   "metadata": {},
   "outputs": [],
   "source": [
    "import sys\n",
    "\n",
    "import pandas as pd\n"
   ]
  },
  {
   "cell_type": "markdown",
   "metadata": {},
   "source": [
    "## 1.2 Options"
   ]
  },
  {
   "cell_type": "code",
   "execution_count": 61,
   "metadata": {},
   "outputs": [
    {
     "name": "stdout",
     "output_type": "stream",
     "text": [
      "The autoreload extension is already loaded. To reload it, use:\n",
      "  %reload_ext autoreload\n"
     ]
    }
   ],
   "source": [
    "%load_ext autoreload\n",
    "%autoreload 2"
   ]
  },
  {
   "cell_type": "code",
   "execution_count": 62,
   "metadata": {},
   "outputs": [],
   "source": [
    "sys.path.append('../src')\n",
    "\n",
    "from velib_prediction.pipelines.train_model.mlflow import (  # noqa: E402\n",
    "    create_mlflow_experiment,\n",
    ")\n",
    "from velib_prediction.pipelines.train_model.nodes import (  # noqa: E402\n",
    "    add_lags_sma,\n",
    "    get_split_train_val_cv,\n",
    "    train_model_cv_mlflow,\n",
    ")\n"
   ]
  },
  {
   "cell_type": "code",
   "execution_count": 63,
   "metadata": {},
   "outputs": [],
   "source": [
    "lags_to_try = [1,]"
   ]
  },
  {
   "cell_type": "code",
   "execution_count": 64,
   "metadata": {},
   "outputs": [],
   "source": [
    "feat_date = \"duedate\""
   ]
  },
  {
   "cell_type": "markdown",
   "metadata": {},
   "source": [
    "## 1.3 Datasets"
   ]
  },
  {
   "cell_type": "code",
   "execution_count": 65,
   "metadata": {},
   "outputs": [
    {
     "data": {
      "text/html": [
       "<div>\n",
       "<style scoped>\n",
       "    .dataframe tbody tr th:only-of-type {\n",
       "        vertical-align: middle;\n",
       "    }\n",
       "\n",
       "    .dataframe tbody tr th {\n",
       "        vertical-align: top;\n",
       "    }\n",
       "\n",
       "    .dataframe thead th {\n",
       "        text-align: right;\n",
       "    }\n",
       "</style>\n",
       "<table border=\"1\" class=\"dataframe\">\n",
       "  <thead>\n",
       "    <tr style=\"text-align: right;\">\n",
       "      <th></th>\n",
       "      <th>idx</th>\n",
       "      <th>stationcode</th>\n",
       "      <th>is_installed</th>\n",
       "      <th>capacity</th>\n",
       "      <th>numdocksavailable</th>\n",
       "      <th>numbikesavailable</th>\n",
       "      <th>mechanical</th>\n",
       "      <th>ebike</th>\n",
       "      <th>is_renting</th>\n",
       "      <th>is_returning</th>\n",
       "      <th>duedate</th>\n",
       "      <th>code_insee_commune</th>\n",
       "      <th>duedate_year</th>\n",
       "      <th>duedate_month</th>\n",
       "      <th>duedate_day</th>\n",
       "      <th>duedate_weekday</th>\n",
       "      <th>duedate_weekend</th>\n",
       "    </tr>\n",
       "  </thead>\n",
       "  <tbody>\n",
       "    <tr>\n",
       "      <th>7</th>\n",
       "      <td>131011729778185</td>\n",
       "      <td>13101</td>\n",
       "      <td>1</td>\n",
       "      <td>34</td>\n",
       "      <td>30</td>\n",
       "      <td>3</td>\n",
       "      <td>2</td>\n",
       "      <td>1</td>\n",
       "      <td>1</td>\n",
       "      <td>1</td>\n",
       "      <td>2024-10-24 13:56:25+00:00</td>\n",
       "      <td>75056</td>\n",
       "      <td>2024</td>\n",
       "      <td>10</td>\n",
       "      <td>24</td>\n",
       "      <td>3</td>\n",
       "      <td>0</td>\n",
       "    </tr>\n",
       "    <tr>\n",
       "      <th>6</th>\n",
       "      <td>70021730501106</td>\n",
       "      <td>7002</td>\n",
       "      <td>1</td>\n",
       "      <td>35</td>\n",
       "      <td>8</td>\n",
       "      <td>26</td>\n",
       "      <td>22</td>\n",
       "      <td>4</td>\n",
       "      <td>1</td>\n",
       "      <td>1</td>\n",
       "      <td>2024-11-01 22:45:06+00:00</td>\n",
       "      <td>75056</td>\n",
       "      <td>2024</td>\n",
       "      <td>11</td>\n",
       "      <td>1</td>\n",
       "      <td>4</td>\n",
       "      <td>0</td>\n",
       "    </tr>\n",
       "  </tbody>\n",
       "</table>\n",
       "</div>"
      ],
      "text/plain": [
       "               idx stationcode  is_installed  capacity  numdocksavailable  \\\n",
       "7  131011729778185       13101             1        34                 30   \n",
       "6   70021730501106        7002             1        35                  8   \n",
       "\n",
       "   numbikesavailable  mechanical  ebike  is_renting  is_returning  \\\n",
       "7                  3           2      1           1             1   \n",
       "6                 26          22      4           1             1   \n",
       "\n",
       "                    duedate code_insee_commune  duedate_year  duedate_month  \\\n",
       "7 2024-10-24 13:56:25+00:00              75056          2024             10   \n",
       "6 2024-11-01 22:45:06+00:00              75056          2024             11   \n",
       "\n",
       "   duedate_day  duedate_weekday  duedate_weekend  \n",
       "7           24                3                0  \n",
       "6            1                4                0  "
      ]
     },
     "execution_count": 65,
     "metadata": {},
     "output_type": "execute_result"
    }
   ],
   "source": [
    "df_train = pd.read_parquet(\"../data/04_feature/df_feat_train.parquet\")\n",
    "df_train.sample(2)"
   ]
  },
  {
   "cell_type": "code",
   "execution_count": 66,
   "metadata": {},
   "outputs": [],
   "source": [
    "df_train.rename(columns={\"numbikesavailable\": \"target\"}, inplace=True)"
   ]
  },
  {
   "cell_type": "markdown",
   "metadata": {},
   "source": [
    "# 2. Prepare datasets"
   ]
  },
  {
   "cell_type": "code",
   "execution_count": 67,
   "metadata": {},
   "outputs": [],
   "source": [
    "# Add lags defined\n",
    "df_train = add_lags_sma(df_train, lags_to_try, feat_id='stationcode', feat_date=feat_date, feat_target=\"target\", n_shift=5)"
   ]
  },
  {
   "cell_type": "code",
   "execution_count": 68,
   "metadata": {},
   "outputs": [],
   "source": [
    "df_train.sort_values(by=\"duedate\", inplace=True)\n",
    "df_train.drop(columns=\"duedate\", inplace=True)"
   ]
  },
  {
   "cell_type": "code",
   "execution_count": 69,
   "metadata": {},
   "outputs": [],
   "source": [
    "list_df = get_split_train_val_cv(df_train, n_splits=3)"
   ]
  },
  {
   "cell_type": "code",
   "execution_count": 70,
   "metadata": {},
   "outputs": [
    {
     "data": {
      "text/plain": [
       "3"
      ]
     },
     "execution_count": 70,
     "metadata": {},
     "output_type": "execute_result"
    }
   ],
   "source": [
    "len(list_df)"
   ]
  },
  {
   "cell_type": "code",
   "execution_count": 71,
   "metadata": {},
   "outputs": [],
   "source": [
    "feat_cat = [\n",
    "    \"is_installed\",\n",
    "    \"is_renting\",\n",
    "    \"is_returning\",\n",
    "    \"code_insee_commune\",\n",
    "    \"duedate_weekend\",\n",
    "]"
   ]
  },
  {
   "cell_type": "markdown",
   "metadata": {},
   "source": [
    "# 3. Train model"
   ]
  },
  {
   "cell_type": "code",
   "execution_count": 72,
   "metadata": {},
   "outputs": [
    {
     "data": {
      "text/plain": [
       "'708543812054389333'"
      ]
     },
     "execution_count": 72,
     "metadata": {},
     "output_type": "execute_result"
    }
   ],
   "source": [
    "experiment_id = create_mlflow_experiment(\n",
    "    experiment_folder_path=\"../data/06_models/mlruns\",\n",
    "    experiment_name=\"velib_prediction\"\n",
    ")\n",
    "experiment_id"
   ]
  },
  {
   "cell_type": "code",
   "execution_count": 73,
   "metadata": {},
   "outputs": [],
   "source": [
    "params_catboost = {\n",
    "    \"iterations\": 100,\n",
    "    \"depth\": 7,\n",
    "}"
   ]
  },
  {
   "cell_type": "code",
   "execution_count": 74,
   "metadata": {},
   "outputs": [
    {
     "name": "stderr",
     "output_type": "stream",
     "text": [
      "/Users/benjaminwallyn/Git/velib-prediction/.venv/lib/python3.11/site-packages/mlflow/types/utils.py:407: UserWarning: Hint: Inferred schema contains integer column(s). Integer columns in Python cannot represent missing values. If your input data contains missing values at inference time, it will be encoded as floats and will cause a schema enforcement error. The best way to avoid this problem is to infer the model schema based on a realistic data sample (training dataset) that includes missing values. Alternatively, you can declare integer columns as doubles (float64) whenever these columns may have missing values. See `Handling Integers With Missing Values <https://www.mlflow.org/docs/latest/models.html#handling-integers-with-missing-values>`_ for more details.\n",
      "  warnings.warn(\n",
      "2024/11/07 09:10:31 WARNING mlflow.models.signature: Failed to infer the model signature from the input example. Reason: MlflowException(\"Failed to enforce schema of data '                 idx stationcode  is_installed  capacity  numdocksavailable  \\\\\\n70   111041729370306       11104             1        20                 17   \\n457  161071729514993       16107             1        35                 30   \\n218  140141729424833       14014             1        60                 22   \\n250  111041729438840       11104             1        20                 15   \\n39   110251729356310       11025             1        43                 17   \\n868   80261729670045        8026             1        12                  0   \\n486  170261729525795       17026             1        40                 37   \\n110   51101729388422        5110             1        23                 22   \\n72    70021729370614        7002             1        35                 28   \\n86   150471729374205       15047             1        52                 46   \\n\\n     mechanical  ebike  is_renting  is_returning code_insee_commune  \\\\\\n70            0      3           1             1              75056   \\n457           2      3           1             1              75056   \\n218          18     16           1             1              75056   \\n250           0      4           1             1              75056   \\n39           17      5           1             1              75056   \\n868           5      6           1             1              75056   \\n486           0      2           1             1              75056   \\n110           0      1           1             1              75056   \\n72            6      1           1             1              75056   \\n86            4      1           1             1              75056   \\n\\n     duedate_year  duedate_month  duedate_day  duedate_weekday  \\\\\\n70           2024             10           19                5   \\n457          2024             10           21                0   \\n218          2024             10           20                6   \\n250          2024             10           20                6   \\n39           2024             10           19                5   \\n868          2024             10           23                2   \\n486          2024             10           21                0   \\n110          2024             10           20                6   \\n72           2024             10           19                5   \\n86           2024             10           19                5   \\n\\n     duedate_weekend  sma_1_lag  \\n70                 1        NaN  \\n457                0        4.0  \\n218                1       17.0  \\n250                1        2.0  \\n39                 1        NaN  \\n868                0        3.0  \\n486                0       13.0  \\n110                1        5.0  \\n72                 1        NaN  \\n86                 1        NaN  ' with schema '['idx': string (required), 'stationcode': string (required), 'is_installed': long (required), 'capacity': long (required), 'numdocksavailable': long (required), 'mechanical': long (required), 'ebike': long (required), 'is_renting': long (required), 'is_returning': long (required), 'code_insee_commune': string (required), 'duedate_year': integer (required), 'duedate_month': integer (required), 'duedate_day': integer (required), 'duedate_weekday': integer (required), 'duedate_weekend': long (required), 'sma_1_lag': double (optional)]'. Error: Incompatible input types for column idx. Can not safely convert string to <U0.\"). To see the full traceback, set the logging level to DEBUG via `logging.getLogger(\"mlflow\").setLevel(logging.DEBUG)`. To disable automatic signature inference, set `signature` to `False` in your `log_model` or `save_model` call.\n"
     ]
    },
    {
     "name": "stdout",
     "output_type": "stream",
     "text": [
      "Learning rate set to 0.204216\n",
      "0:\tlearn: 8.2879177\ttest: 7.5947855\tbest: 7.5947855 (0)\ttotal: 58.9ms\tremaining: 5.83s\n",
      "10:\tlearn: 1.9229949\ttest: 1.9464476\tbest: 1.9464476 (10)\ttotal: 65.6ms\tremaining: 531ms\n",
      "20:\tlearn: 0.7498882\ttest: 1.2583431\tbest: 1.2583431 (20)\ttotal: 70.3ms\tremaining: 264ms\n",
      "30:\tlearn: 0.5504552\ttest: 1.1492577\tbest: 1.1492577 (30)\ttotal: 74.4ms\tremaining: 166ms\n",
      "40:\tlearn: 0.4386838\ttest: 1.0906112\tbest: 1.0906112 (40)\ttotal: 79.4ms\tremaining: 114ms\n",
      "50:\tlearn: 0.3628740\ttest: 1.0448733\tbest: 1.0448733 (50)\ttotal: 85.2ms\tremaining: 81.9ms\n",
      "60:\tlearn: 0.3082720\ttest: 1.0204172\tbest: 1.0204172 (60)\ttotal: 91.5ms\tremaining: 58.5ms\n",
      "70:\tlearn: 0.2599096\ttest: 1.0031083\tbest: 1.0030558 (69)\ttotal: 96ms\tremaining: 39.2ms\n",
      "80:\tlearn: 0.2211429\ttest: 0.9847377\tbest: 0.9847377 (80)\ttotal: 101ms\tremaining: 23.6ms\n",
      "90:\tlearn: 0.2015777\ttest: 0.9738408\tbest: 0.9738408 (90)\ttotal: 107ms\tremaining: 10.6ms\n",
      "99:\tlearn: 0.1803074\ttest: 0.9675743\tbest: 0.9675743 (99)\ttotal: 112ms\tremaining: 0us\n",
      "\n",
      "bestTest = 0.9675742512\n",
      "bestIteration = 99\n",
      "\n"
     ]
    },
    {
     "data": {
      "application/vnd.jupyter.widget-view+json": {
       "model_id": "8b526a1c3eee45aab94d465ed3dd460a",
       "version_major": 2,
       "version_minor": 0
      },
      "text/plain": [
       "Downloading artifacts:   0%|          | 0/7 [00:00<?, ?it/s]"
      ]
     },
     "metadata": {},
     "output_type": "display_data"
    },
    {
     "name": "stderr",
     "output_type": "stream",
     "text": [
      "/Users/benjaminwallyn/Git/velib-prediction/.venv/lib/python3.11/site-packages/mlflow/types/utils.py:407: UserWarning: Hint: Inferred schema contains integer column(s). Integer columns in Python cannot represent missing values. If your input data contains missing values at inference time, it will be encoded as floats and will cause a schema enforcement error. The best way to avoid this problem is to infer the model schema based on a realistic data sample (training dataset) that includes missing values. Alternatively, you can declare integer columns as doubles (float64) whenever these columns may have missing values. See `Handling Integers With Missing Values <https://www.mlflow.org/docs/latest/models.html#handling-integers-with-missing-values>`_ for more details.\n",
      "  warnings.warn(\n",
      "2024/11/07 09:10:33 WARNING mlflow.models.signature: Failed to infer the model signature from the input example. Reason: MlflowException(\"Failed to enforce schema of data '                  idx stationcode  is_installed  capacity  numdocksavailable  \\\\\\n1370  111041729875304       11104             1        20                 16   \\n65     60031729366947        6003             1        21                  8   \\n1289  161071729843219       16107             1        35                 27   \\n941   152021729698568       15202             1        30                 29   \\n1067   90201729745783        9020             1        21                 19   \\n610   210101729579799       21010             1        25                 21   \\n426    70031729504133        7003             1        60                  0   \\n1729   61081730005517        6108             1        17                  0   \\n414   111041729500534       11104             1        20                 17   \\n976   150471729709725       15047             1        52                 39   \\n\\n      mechanical  ebike  is_renting  is_returning code_insee_commune  \\\\\\n1370           0      4           1             1              75056   \\n65             3      8           1             1              75056   \\n1289           5      2           1             1              75056   \\n941            1      0           1             1              75056   \\n1067           1      1           1             1              75056   \\n610            3      1           1             1              92012   \\n426           29     31           1             1              75056   \\n1729           9      7           1             1              75056   \\n414            1      1           1             1              75056   \\n976            7      5           1             1              75056   \\n\\n      duedate_year  duedate_month  duedate_day  duedate_weekday  \\\\\\n1370          2024             10           25                4   \\n65            2024             10           19                5   \\n1289          2024             10           25                4   \\n941           2024             10           23                2   \\n1067          2024             10           24                3   \\n610           2024             10           22                1   \\n426           2024             10           21                0   \\n1729          2024             10           27                6   \\n414           2024             10           21                0   \\n976           2024             10           23                2   \\n\\n      duedate_weekend  sma_1_lag  \\n1370                0        0.0  \\n65                  1        NaN  \\n1289                0        0.0  \\n941                 0       12.0  \\n1067                0        4.0  \\n610                 0        6.0  \\n426                 0        6.0  \\n1729                1       15.0  \\n414                 0        4.0  \\n976                 0       17.0  ' with schema '['idx': string (required), 'stationcode': string (required), 'is_installed': long (required), 'capacity': long (required), 'numdocksavailable': long (required), 'mechanical': long (required), 'ebike': long (required), 'is_renting': long (required), 'is_returning': long (required), 'code_insee_commune': string (required), 'duedate_year': integer (required), 'duedate_month': integer (required), 'duedate_day': integer (required), 'duedate_weekday': integer (required), 'duedate_weekend': long (required), 'sma_1_lag': double (optional)]'. Error: Incompatible input types for column idx. Can not safely convert string to <U0.\"). To see the full traceback, set the logging level to DEBUG via `logging.getLogger(\"mlflow\").setLevel(logging.DEBUG)`. To disable automatic signature inference, set `signature` to `False` in your `log_model` or `save_model` call.\n"
     ]
    },
    {
     "name": "stdout",
     "output_type": "stream",
     "text": [
      "Learning rate set to 0.227694\n",
      "0:\tlearn: 7.8645281\ttest: 8.1732645\tbest: 8.1732645 (0)\ttotal: 611us\tremaining: 60.5ms\n",
      "10:\tlearn: 1.4827616\ttest: 2.9689809\tbest: 2.9689809 (10)\ttotal: 7.68ms\tremaining: 62.1ms\n",
      "20:\tlearn: 0.7437128\ttest: 2.2049915\tbest: 2.2049915 (20)\ttotal: 13.6ms\tremaining: 51.2ms\n",
      "30:\tlearn: 0.5685405\ttest: 2.0965980\tbest: 2.0965980 (30)\ttotal: 18.4ms\tremaining: 41ms\n",
      "40:\tlearn: 0.4510357\ttest: 2.0338918\tbest: 2.0338918 (40)\ttotal: 23.2ms\tremaining: 33.4ms\n",
      "50:\tlearn: 0.3764778\ttest: 1.9528864\tbest: 1.9519673 (49)\ttotal: 29ms\tremaining: 27.9ms\n",
      "60:\tlearn: 0.3139373\ttest: 1.9338885\tbest: 1.9243468 (58)\ttotal: 34.1ms\tremaining: 21.8ms\n",
      "70:\tlearn: 0.2666599\ttest: 1.9357011\tbest: 1.9243468 (58)\ttotal: 39.1ms\tremaining: 16ms\n",
      "80:\tlearn: 0.2340987\ttest: 1.9181725\tbest: 1.9139059 (78)\ttotal: 44.3ms\tremaining: 10.4ms\n",
      "90:\tlearn: 0.2071453\ttest: 1.8987260\tbest: 1.8987260 (90)\ttotal: 49.6ms\tremaining: 4.9ms\n",
      "99:\tlearn: 0.1880245\ttest: 1.8957842\tbest: 1.8942637 (97)\ttotal: 54ms\tremaining: 0us\n",
      "\n",
      "bestTest = 1.894263721\n",
      "bestIteration = 97\n",
      "\n",
      "Shrink model to first 98 iterations.\n"
     ]
    },
    {
     "data": {
      "application/vnd.jupyter.widget-view+json": {
       "model_id": "164b761fc3e0455b98cd573b7018b59f",
       "version_major": 2,
       "version_minor": 0
      },
      "text/plain": [
       "Downloading artifacts:   0%|          | 0/7 [00:00<?, ?it/s]"
      ]
     },
     "metadata": {},
     "output_type": "display_data"
    },
    {
     "name": "stderr",
     "output_type": "stream",
     "text": [
      "/Users/benjaminwallyn/Git/velib-prediction/.venv/lib/python3.11/site-packages/mlflow/types/utils.py:407: UserWarning: Hint: Inferred schema contains integer column(s). Integer columns in Python cannot represent missing values. If your input data contains missing values at inference time, it will be encoded as floats and will cause a schema enforcement error. The best way to avoid this problem is to infer the model schema based on a realistic data sample (training dataset) that includes missing values. Alternatively, you can declare integer columns as doubles (float64) whenever these columns may have missing values. See `Handling Integers With Missing Values <https://www.mlflow.org/docs/latest/models.html#handling-integers-with-missing-values>`_ for more details.\n",
      "  warnings.warn(\n",
      "2024/11/07 09:10:35 WARNING mlflow.models.signature: Failed to infer the model signature from the input example. Reason: MlflowException(\"Failed to enforce schema of data '                  idx stationcode  is_installed  capacity  numdocksavailable  \\\\\\n506    70021729532977        7002             1        35                 16   \\n1539  141111729936981       14111             1        25                 20   \\n1912   70021730077364        7002             1        35                  6   \\n931   161071729695154       16107             1        35                 26   \\n2678   50161730369649        5016             1        17                  7   \\n282   210101729449905       21010             1        25                 18   \\n414   111041729500534       11104             1        20                 17   \\n1173   90201729788955        9020             1        21                 14   \\n834    70021729659029        7002             1        35                 22   \\n2083  161071730142406       16107             1        35                 30   \\n\\n      mechanical  ebike  is_renting  is_returning code_insee_commune  \\\\\\n506            9      6           1             1              75056   \\n1539           0      3           1             1              75056   \\n1912          26      2           1             1              75056   \\n931            6      2           1             1              75056   \\n2678           1      7           1             1              75056   \\n282            2      2           1             1              92012   \\n414            1      1           1             1              75056   \\n1173           3      3           1             1              75056   \\n834           11      1           1             1              75056   \\n2083           1      3           1             1              75056   \\n\\n      duedate_year  duedate_month  duedate_day  duedate_weekday  \\\\\\n506           2024             10           21                0   \\n1539          2024             10           26                5   \\n1912          2024             10           28                0   \\n931           2024             10           23                2   \\n2678          2024             10           31                3   \\n282           2024             10           20                6   \\n414           2024             10           21                0   \\n1173          2024             10           24                3   \\n834           2024             10           23                2   \\n2083          2024             10           28                0   \\n\\n      duedate_weekend  sma_1_lag  \\n506                 0       16.0  \\n1539                1        6.0  \\n1912                0       15.0  \\n931                 0       20.0  \\n2678                0        3.0  \\n282                 1       14.0  \\n414                 0        4.0  \\n1173                0        5.0  \\n834                 0        7.0  \\n2083                0        3.0  ' with schema '['idx': string (required), 'stationcode': string (required), 'is_installed': long (required), 'capacity': long (required), 'numdocksavailable': long (required), 'mechanical': long (required), 'ebike': long (required), 'is_renting': long (required), 'is_returning': long (required), 'code_insee_commune': string (required), 'duedate_year': integer (required), 'duedate_month': integer (required), 'duedate_day': integer (required), 'duedate_weekday': integer (required), 'duedate_weekend': long (required), 'sma_1_lag': double (required)]'. Error: Incompatible input types for column idx. Can not safely convert string to <U0.\"). To see the full traceback, set the logging level to DEBUG via `logging.getLogger(\"mlflow\").setLevel(logging.DEBUG)`. To disable automatic signature inference, set `signature` to `False` in your `log_model` or `save_model` call.\n"
     ]
    },
    {
     "name": "stdout",
     "output_type": "stream",
     "text": [
      "Learning rate set to 0.24266\n",
      "0:\tlearn: 7.6173193\ttest: 7.5281582\tbest: 7.5281582 (0)\ttotal: 1.32ms\tremaining: 131ms\n",
      "10:\tlearn: 1.3328502\ttest: 2.3253323\tbest: 2.3253323 (10)\ttotal: 7.32ms\tremaining: 59.2ms\n",
      "20:\tlearn: 0.7378684\ttest: 1.7040665\tbest: 1.7040665 (20)\ttotal: 13.6ms\tremaining: 51.1ms\n",
      "30:\tlearn: 0.6228388\ttest: 1.5180303\tbest: 1.5180303 (30)\ttotal: 19ms\tremaining: 42.2ms\n",
      "40:\tlearn: 0.5400639\ttest: 1.3907635\tbest: 1.3907635 (40)\ttotal: 24.6ms\tremaining: 35.3ms\n",
      "50:\tlearn: 0.4704229\ttest: 1.3065026\tbest: 1.3065026 (50)\ttotal: 72.6ms\tremaining: 69.8ms\n",
      "60:\tlearn: 0.3872695\ttest: 1.2378014\tbest: 1.2378014 (60)\ttotal: 79ms\tremaining: 50.5ms\n",
      "70:\tlearn: 0.3272282\ttest: 1.1814235\tbest: 1.1814235 (70)\ttotal: 85.1ms\tremaining: 34.8ms\n",
      "80:\tlearn: 0.2875514\ttest: 1.1551786\tbest: 1.1551786 (80)\ttotal: 91.2ms\tremaining: 21.4ms\n",
      "90:\tlearn: 0.2532266\ttest: 1.1375581\tbest: 1.1375581 (90)\ttotal: 97.3ms\tremaining: 9.62ms\n",
      "99:\tlearn: 0.2278953\ttest: 1.1260603\tbest: 1.1260603 (99)\ttotal: 103ms\tremaining: 0us\n",
      "\n",
      "bestTest = 1.126060307\n",
      "bestIteration = 99\n",
      "\n"
     ]
    },
    {
     "data": {
      "application/vnd.jupyter.widget-view+json": {
       "model_id": "e497ed5f6d094bd3bac18234c0d5be31",
       "version_major": 2,
       "version_minor": 0
      },
      "text/plain": [
       "Downloading artifacts:   0%|          | 0/7 [00:00<?, ?it/s]"
      ]
     },
     "metadata": {},
     "output_type": "display_data"
    }
   ],
   "source": [
    "train_model_cv_mlflow(\n",
    "    run_name=\"Test_catboost\",\n",
    "    experiment_id=experiment_id,\n",
    "    list_train_valid=list_df,\n",
    "    feat_cat=feat_cat,\n",
    "    verbose=10,\n",
    "    **params_catboost\n",
    ")"
   ]
  }
 ],
 "metadata": {
  "kernelspec": {
   "display_name": ".venv",
   "language": "python",
   "name": "python3"
  },
  "language_info": {
   "codemirror_mode": {
    "name": "ipython",
    "version": 3
   },
   "file_extension": ".py",
   "mimetype": "text/x-python",
   "name": "python",
   "nbconvert_exporter": "python",
   "pygments_lexer": "ipython3",
   "version": "3.11.8"
  }
 },
 "nbformat": 4,
 "nbformat_minor": 2
}
