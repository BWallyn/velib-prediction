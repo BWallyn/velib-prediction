{
 "cells": [
  {
   "cell_type": "markdown",
   "metadata": {},
   "source": [
    "# Analyze data"
   ]
  },
  {
   "cell_type": "markdown",
   "metadata": {},
   "source": [
    "# 1. Imports"
   ]
  },
  {
   "cell_type": "markdown",
   "metadata": {},
   "source": [
    "## 1.1 Packages"
   ]
  },
  {
   "cell_type": "code",
   "execution_count": 1,
   "metadata": {},
   "outputs": [],
   "source": [
    "import pandas as pd\n",
    "import geopandas as gpd"
   ]
  },
  {
   "cell_type": "markdown",
   "metadata": {},
   "source": [
    "## 1.2 Options"
   ]
  },
  {
   "cell_type": "code",
   "execution_count": null,
   "metadata": {},
   "outputs": [],
   "source": []
  },
  {
   "cell_type": "markdown",
   "metadata": {},
   "source": [
    "## 1.3 Data"
   ]
  },
  {
   "cell_type": "code",
   "execution_count": 2,
   "metadata": {},
   "outputs": [],
   "source": [
    "gdf = gpd.read_parquet(\"../data/01_raw/velib-disponibilite-en-temps-reel.parquet\")"
   ]
  },
  {
   "cell_type": "markdown",
   "metadata": {},
   "source": [
    "# 2. Data"
   ]
  },
  {
   "cell_type": "code",
   "execution_count": 3,
   "metadata": {},
   "outputs": [
    {
     "data": {
      "text/html": [
       "<div>\n",
       "<style scoped>\n",
       "    .dataframe tbody tr th:only-of-type {\n",
       "        vertical-align: middle;\n",
       "    }\n",
       "\n",
       "    .dataframe tbody tr th {\n",
       "        vertical-align: top;\n",
       "    }\n",
       "\n",
       "    .dataframe thead th {\n",
       "        text-align: right;\n",
       "    }\n",
       "</style>\n",
       "<table border=\"1\" class=\"dataframe\">\n",
       "  <thead>\n",
       "    <tr style=\"text-align: right;\">\n",
       "      <th></th>\n",
       "      <th>stationcode</th>\n",
       "      <th>name</th>\n",
       "      <th>is_installed</th>\n",
       "      <th>capacity</th>\n",
       "      <th>numdocksavailable</th>\n",
       "      <th>numbikesavailable</th>\n",
       "      <th>mechanical</th>\n",
       "      <th>ebike</th>\n",
       "      <th>is_renting</th>\n",
       "      <th>is_returning</th>\n",
       "      <th>duedate</th>\n",
       "      <th>coordonnees_geo</th>\n",
       "      <th>nom_arrondissement_communes</th>\n",
       "      <th>code_insee_commune</th>\n",
       "    </tr>\n",
       "  </thead>\n",
       "  <tbody>\n",
       "    <tr>\n",
       "      <th>586</th>\n",
       "      <td>18001</td>\n",
       "      <td>Damrémont - Caulaincourt</td>\n",
       "      <td>OUI</td>\n",
       "      <td>18.0</td>\n",
       "      <td>16</td>\n",
       "      <td>1</td>\n",
       "      <td>0</td>\n",
       "      <td>1</td>\n",
       "      <td>OUI</td>\n",
       "      <td>OUI</td>\n",
       "      <td>2024-08-19 08:58:01</td>\n",
       "      <td>POINT (2.33259 48.88715)</td>\n",
       "      <td>Paris</td>\n",
       "      <td>75056</td>\n",
       "    </tr>\n",
       "    <tr>\n",
       "      <th>137</th>\n",
       "      <td>14008</td>\n",
       "      <td>Mouton Duvernet - Général Leclerc</td>\n",
       "      <td>OUI</td>\n",
       "      <td>28.0</td>\n",
       "      <td>24</td>\n",
       "      <td>4</td>\n",
       "      <td>4</td>\n",
       "      <td>0</td>\n",
       "      <td>OUI</td>\n",
       "      <td>OUI</td>\n",
       "      <td>2024-08-19 09:05:18</td>\n",
       "      <td>POINT (2.32931 48.83163)</td>\n",
       "      <td>Paris</td>\n",
       "      <td>75056</td>\n",
       "    </tr>\n",
       "    <tr>\n",
       "      <th>1164</th>\n",
       "      <td>10166</td>\n",
       "      <td>Strasbourg - Saint-Denis</td>\n",
       "      <td>OUI</td>\n",
       "      <td>16.0</td>\n",
       "      <td>3</td>\n",
       "      <td>12</td>\n",
       "      <td>9</td>\n",
       "      <td>3</td>\n",
       "      <td>OUI</td>\n",
       "      <td>OUI</td>\n",
       "      <td>2024-08-19 09:03:25</td>\n",
       "      <td>POINT (2.35429 48.8696)</td>\n",
       "      <td>Paris</td>\n",
       "      <td>75056</td>\n",
       "    </tr>\n",
       "    <tr>\n",
       "      <th>1063</th>\n",
       "      <td>14134</td>\n",
       "      <td>Château - Place de Catalogne</td>\n",
       "      <td>OUI</td>\n",
       "      <td>0.0</td>\n",
       "      <td>0</td>\n",
       "      <td>0</td>\n",
       "      <td>0</td>\n",
       "      <td>0</td>\n",
       "      <td>NON</td>\n",
       "      <td>NON</td>\n",
       "      <td>2024-01-30 22:37:44</td>\n",
       "      <td>POINT (2.31853 48.83681)</td>\n",
       "      <td>Paris</td>\n",
       "      <td>75056</td>\n",
       "    </tr>\n",
       "    <tr>\n",
       "      <th>1280</th>\n",
       "      <td>12122</td>\n",
       "      <td>Bois de Vincennes - Polygone</td>\n",
       "      <td>OUI</td>\n",
       "      <td>51.0</td>\n",
       "      <td>43</td>\n",
       "      <td>7</td>\n",
       "      <td>5</td>\n",
       "      <td>2</td>\n",
       "      <td>OUI</td>\n",
       "      <td>OUI</td>\n",
       "      <td>2024-08-19 09:04:47</td>\n",
       "      <td>POINT (2.43142 48.83544)</td>\n",
       "      <td>Paris</td>\n",
       "      <td>75056</td>\n",
       "    </tr>\n",
       "  </tbody>\n",
       "</table>\n",
       "</div>"
      ],
      "text/plain": [
       "     stationcode                               name is_installed  capacity  \\\n",
       "586        18001           Damrémont - Caulaincourt          OUI      18.0   \n",
       "137        14008  Mouton Duvernet - Général Leclerc          OUI      28.0   \n",
       "1164       10166           Strasbourg - Saint-Denis          OUI      16.0   \n",
       "1063       14134       Château - Place de Catalogne          OUI       0.0   \n",
       "1280       12122       Bois de Vincennes - Polygone          OUI      51.0   \n",
       "\n",
       "      numdocksavailable  numbikesavailable  mechanical  ebike is_renting  \\\n",
       "586                  16                  1           0      1        OUI   \n",
       "137                  24                  4           4      0        OUI   \n",
       "1164                  3                 12           9      3        OUI   \n",
       "1063                  0                  0           0      0        NON   \n",
       "1280                 43                  7           5      2        OUI   \n",
       "\n",
       "     is_returning             duedate           coordonnees_geo  \\\n",
       "586           OUI 2024-08-19 08:58:01  POINT (2.33259 48.88715)   \n",
       "137           OUI 2024-08-19 09:05:18  POINT (2.32931 48.83163)   \n",
       "1164          OUI 2024-08-19 09:03:25   POINT (2.35429 48.8696)   \n",
       "1063          NON 2024-01-30 22:37:44  POINT (2.31853 48.83681)   \n",
       "1280          OUI 2024-08-19 09:04:47  POINT (2.43142 48.83544)   \n",
       "\n",
       "     nom_arrondissement_communes code_insee_commune  \n",
       "586                        Paris              75056  \n",
       "137                        Paris              75056  \n",
       "1164                       Paris              75056  \n",
       "1063                       Paris              75056  \n",
       "1280                       Paris              75056  "
      ]
     },
     "execution_count": 3,
     "metadata": {},
     "output_type": "execute_result"
    }
   ],
   "source": [
    "gdf.sample(5)"
   ]
  },
  {
   "cell_type": "code",
   "execution_count": null,
   "metadata": {},
   "outputs": [],
   "source": []
  }
 ],
 "metadata": {
  "kernelspec": {
   "display_name": ".venv",
   "language": "python",
   "name": "python3"
  },
  "language_info": {
   "codemirror_mode": {
    "name": "ipython",
    "version": 3
   },
   "file_extension": ".py",
   "mimetype": "text/x-python",
   "name": "python",
   "nbconvert_exporter": "python",
   "pygments_lexer": "ipython3",
   "version": "3.11.8"
  }
 },
 "nbformat": 4,
 "nbformat_minor": 2
}
