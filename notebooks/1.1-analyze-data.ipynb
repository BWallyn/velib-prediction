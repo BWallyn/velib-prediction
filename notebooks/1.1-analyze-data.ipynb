{
 "cells": [
  {
   "cell_type": "markdown",
   "metadata": {},
   "source": [
    "# Analyze data"
   ]
  },
  {
   "cell_type": "markdown",
   "metadata": {},
   "source": [
    "# 1. Imports"
   ]
  },
  {
   "cell_type": "markdown",
   "metadata": {},
   "source": [
    "## 1.1 Packages"
   ]
  },
  {
   "cell_type": "code",
   "execution_count": 1,
   "metadata": {},
   "outputs": [],
   "source": [
    "import geopandas as gpd  # type: ignore\n"
   ]
  },
  {
   "cell_type": "markdown",
   "metadata": {},
   "source": [
    "## 1.2 Options"
   ]
  },
  {
   "cell_type": "code",
   "execution_count": null,
   "metadata": {},
   "outputs": [],
   "source": []
  },
  {
   "cell_type": "markdown",
   "metadata": {},
   "source": [
    "## 1.3 Data"
   ]
  },
  {
   "cell_type": "code",
   "execution_count": 2,
   "metadata": {},
   "outputs": [],
   "source": [
    "gdf = gpd.read_parquet(\"../data/01_raw/velib-disponibilite-en-temps-reel.parquet\")"
   ]
  },
  {
   "cell_type": "markdown",
   "metadata": {},
   "source": [
    "# 2. Data"
   ]
  },
  {
   "cell_type": "code",
   "execution_count": 3,
   "metadata": {},
   "outputs": [
    {
     "data": {
      "text/html": [
       "<div>\n",
       "<style scoped>\n",
       "    .dataframe tbody tr th:only-of-type {\n",
       "        vertical-align: middle;\n",
       "    }\n",
       "\n",
       "    .dataframe tbody tr th {\n",
       "        vertical-align: top;\n",
       "    }\n",
       "\n",
       "    .dataframe thead th {\n",
       "        text-align: right;\n",
       "    }\n",
       "</style>\n",
       "<table border=\"1\" class=\"dataframe\">\n",
       "  <thead>\n",
       "    <tr style=\"text-align: right;\">\n",
       "      <th></th>\n",
       "      <th>stationcode</th>\n",
       "      <th>name</th>\n",
       "      <th>is_installed</th>\n",
       "      <th>capacity</th>\n",
       "      <th>numdocksavailable</th>\n",
       "      <th>numbikesavailable</th>\n",
       "      <th>mechanical</th>\n",
       "      <th>ebike</th>\n",
       "      <th>is_renting</th>\n",
       "      <th>is_returning</th>\n",
       "      <th>duedate</th>\n",
       "      <th>coordonnees_geo</th>\n",
       "      <th>nom_arrondissement_communes</th>\n",
       "      <th>code_insee_commune</th>\n",
       "    </tr>\n",
       "  </thead>\n",
       "  <tbody>\n",
       "    <tr>\n",
       "      <th>1256</th>\n",
       "      <td>43004</td>\n",
       "      <td>Montreuil - République</td>\n",
       "      <td>OUI</td>\n",
       "      <td>25.0</td>\n",
       "      <td>25</td>\n",
       "      <td>0</td>\n",
       "      <td>0</td>\n",
       "      <td>0</td>\n",
       "      <td>OUI</td>\n",
       "      <td>OUI</td>\n",
       "      <td>2024-08-19 09:00:34</td>\n",
       "      <td>POINT (2.43452 48.85026)</td>\n",
       "      <td>Vincennes</td>\n",
       "      <td>94080</td>\n",
       "    </tr>\n",
       "    <tr>\n",
       "      <th>889</th>\n",
       "      <td>10033</td>\n",
       "      <td>Gare du Nord - Saint-Vincent de Paul</td>\n",
       "      <td>OUI</td>\n",
       "      <td>24.0</td>\n",
       "      <td>17</td>\n",
       "      <td>5</td>\n",
       "      <td>5</td>\n",
       "      <td>0</td>\n",
       "      <td>OUI</td>\n",
       "      <td>OUI</td>\n",
       "      <td>2024-08-19 08:59:01</td>\n",
       "      <td>POINT (2.35243 48.88096)</td>\n",
       "      <td>Paris</td>\n",
       "      <td>75056</td>\n",
       "    </tr>\n",
       "    <tr>\n",
       "      <th>1406</th>\n",
       "      <td>31301</td>\n",
       "      <td>Gare RER</td>\n",
       "      <td>OUI</td>\n",
       "      <td>30.0</td>\n",
       "      <td>27</td>\n",
       "      <td>2</td>\n",
       "      <td>2</td>\n",
       "      <td>0</td>\n",
       "      <td>OUI</td>\n",
       "      <td>OUI</td>\n",
       "      <td>2024-08-19 09:01:47</td>\n",
       "      <td>POINT (2.45816 48.89628)</td>\n",
       "      <td>Noisy-le-Sec</td>\n",
       "      <td>93053</td>\n",
       "    </tr>\n",
       "    <tr>\n",
       "      <th>1291</th>\n",
       "      <td>20037</td>\n",
       "      <td>Gambetta - Saint Fargeau</td>\n",
       "      <td>OUI</td>\n",
       "      <td>24.0</td>\n",
       "      <td>23</td>\n",
       "      <td>0</td>\n",
       "      <td>0</td>\n",
       "      <td>0</td>\n",
       "      <td>OUI</td>\n",
       "      <td>OUI</td>\n",
       "      <td>2024-08-19 08:57:30</td>\n",
       "      <td>POINT (2.40391 48.87124)</td>\n",
       "      <td>Paris</td>\n",
       "      <td>75056</td>\n",
       "    </tr>\n",
       "    <tr>\n",
       "      <th>231</th>\n",
       "      <td>9032</td>\n",
       "      <td>Mathurins - Auber</td>\n",
       "      <td>OUI</td>\n",
       "      <td>36.0</td>\n",
       "      <td>1</td>\n",
       "      <td>32</td>\n",
       "      <td>20</td>\n",
       "      <td>12</td>\n",
       "      <td>OUI</td>\n",
       "      <td>OUI</td>\n",
       "      <td>2024-08-19 09:04:00</td>\n",
       "      <td>POINT (2.3295 48.87299)</td>\n",
       "      <td>Paris</td>\n",
       "      <td>75056</td>\n",
       "    </tr>\n",
       "  </tbody>\n",
       "</table>\n",
       "</div>"
      ],
      "text/plain": [
       "     stationcode                                  name is_installed  capacity  \\\n",
       "1256       43004                Montreuil - République          OUI      25.0   \n",
       "889        10033  Gare du Nord - Saint-Vincent de Paul          OUI      24.0   \n",
       "1406       31301                              Gare RER          OUI      30.0   \n",
       "1291       20037              Gambetta - Saint Fargeau          OUI      24.0   \n",
       "231         9032                     Mathurins - Auber          OUI      36.0   \n",
       "\n",
       "      numdocksavailable  numbikesavailable  mechanical  ebike is_renting  \\\n",
       "1256                 25                  0           0      0        OUI   \n",
       "889                  17                  5           5      0        OUI   \n",
       "1406                 27                  2           2      0        OUI   \n",
       "1291                 23                  0           0      0        OUI   \n",
       "231                   1                 32          20     12        OUI   \n",
       "\n",
       "     is_returning             duedate           coordonnees_geo  \\\n",
       "1256          OUI 2024-08-19 09:00:34  POINT (2.43452 48.85026)   \n",
       "889           OUI 2024-08-19 08:59:01  POINT (2.35243 48.88096)   \n",
       "1406          OUI 2024-08-19 09:01:47  POINT (2.45816 48.89628)   \n",
       "1291          OUI 2024-08-19 08:57:30  POINT (2.40391 48.87124)   \n",
       "231           OUI 2024-08-19 09:04:00   POINT (2.3295 48.87299)   \n",
       "\n",
       "     nom_arrondissement_communes code_insee_commune  \n",
       "1256                   Vincennes              94080  \n",
       "889                        Paris              75056  \n",
       "1406                Noisy-le-Sec              93053  \n",
       "1291                       Paris              75056  \n",
       "231                        Paris              75056  "
      ]
     },
     "execution_count": 3,
     "metadata": {},
     "output_type": "execute_result"
    }
   ],
   "source": [
    "gdf.sample(5)"
   ]
  },
  {
   "cell_type": "code",
   "execution_count": 4,
   "metadata": {},
   "outputs": [
    {
     "data": {
      "text/plain": [
       "Index(['stationcode', 'name', 'is_installed', 'capacity', 'numdocksavailable',\n",
       "       'numbikesavailable', 'mechanical', 'ebike', 'is_renting',\n",
       "       'is_returning', 'duedate', 'coordonnees_geo',\n",
       "       'nom_arrondissement_communes', 'code_insee_commune'],\n",
       "      dtype='object')"
      ]
     },
     "execution_count": 4,
     "metadata": {},
     "output_type": "execute_result"
    }
   ],
   "source": [
    "gdf.columns"
   ]
  }
 ],
 "metadata": {
  "kernelspec": {
   "display_name": ".venv",
   "language": "python",
   "name": "python3"
  },
  "language_info": {
   "codemirror_mode": {
    "name": "ipython",
    "version": 3
   },
   "file_extension": ".py",
   "mimetype": "text/x-python",
   "name": "python",
   "nbconvert_exporter": "python",
   "pygments_lexer": "ipython3",
   "version": "3.11.8"
  }
 },
 "nbformat": 4,
 "nbformat_minor": 2
}
