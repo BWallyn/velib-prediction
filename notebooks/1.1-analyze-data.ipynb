{
 "cells": [
  {
   "cell_type": "markdown",
   "metadata": {},
   "source": [
    "# Analyze data"
   ]
  },
  {
   "cell_type": "markdown",
   "metadata": {},
   "source": [
    "# 1. Imports"
   ]
  },
  {
   "cell_type": "markdown",
   "metadata": {},
   "source": [
    "## 1.1 Packages"
   ]
  },
  {
   "cell_type": "code",
   "execution_count": 1,
   "metadata": {},
   "outputs": [],
   "source": [
    "import pandas as pd"
   ]
  },
  {
   "cell_type": "markdown",
   "metadata": {},
   "source": [
    "## 1.2 Options"
   ]
  },
  {
   "cell_type": "code",
   "execution_count": null,
   "metadata": {},
   "outputs": [],
   "source": []
  },
  {
   "cell_type": "markdown",
   "metadata": {},
   "source": [
    "## 1.3 Data"
   ]
  },
  {
   "cell_type": "code",
   "execution_count": 2,
   "metadata": {},
   "outputs": [],
   "source": [
    "df = pd.read_parquet(\"../data/01_raw/velib-disponibilite-en-temps-reel.parquet\")"
   ]
  },
  {
   "cell_type": "markdown",
   "metadata": {},
   "source": [
    "# 2. Data"
   ]
  },
  {
   "cell_type": "code",
   "execution_count": 3,
   "metadata": {},
   "outputs": [
    {
     "data": {
      "text/html": [
       "<div>\n",
       "<style scoped>\n",
       "    .dataframe tbody tr th:only-of-type {\n",
       "        vertical-align: middle;\n",
       "    }\n",
       "\n",
       "    .dataframe tbody tr th {\n",
       "        vertical-align: top;\n",
       "    }\n",
       "\n",
       "    .dataframe thead th {\n",
       "        text-align: right;\n",
       "    }\n",
       "</style>\n",
       "<table border=\"1\" class=\"dataframe\">\n",
       "  <thead>\n",
       "    <tr style=\"text-align: right;\">\n",
       "      <th></th>\n",
       "      <th>stationcode</th>\n",
       "      <th>name</th>\n",
       "      <th>is_installed</th>\n",
       "      <th>capacity</th>\n",
       "      <th>numdocksavailable</th>\n",
       "      <th>numbikesavailable</th>\n",
       "      <th>mechanical</th>\n",
       "      <th>ebike</th>\n",
       "      <th>is_renting</th>\n",
       "      <th>is_returning</th>\n",
       "      <th>duedate</th>\n",
       "      <th>coordonnees_geo</th>\n",
       "      <th>nom_arrondissement_communes</th>\n",
       "      <th>code_insee_commune</th>\n",
       "    </tr>\n",
       "  </thead>\n",
       "  <tbody>\n",
       "    <tr>\n",
       "      <th>1129</th>\n",
       "      <td>34011</td>\n",
       "      <td>Clef des Champs - Albert Dhalenne</td>\n",
       "      <td>OUI</td>\n",
       "      <td>28.0</td>\n",
       "      <td>12</td>\n",
       "      <td>16</td>\n",
       "      <td>8</td>\n",
       "      <td>8</td>\n",
       "      <td>OUI</td>\n",
       "      <td>OUI</td>\n",
       "      <td>2024-08-19 09:03:12</td>\n",
       "      <td>b'\\x01\\x01\\x00\\x00\\x00it\\x07\\xb13\\xa5\\x02@\\x0f...</td>\n",
       "      <td>Saint-Ouen-sur-Seine</td>\n",
       "      <td>93070</td>\n",
       "    </tr>\n",
       "    <tr>\n",
       "      <th>283</th>\n",
       "      <td>21305</td>\n",
       "      <td>Place Jacques Madaule</td>\n",
       "      <td>OUI</td>\n",
       "      <td>25.0</td>\n",
       "      <td>0</td>\n",
       "      <td>25</td>\n",
       "      <td>18</td>\n",
       "      <td>7</td>\n",
       "      <td>OUI</td>\n",
       "      <td>OUI</td>\n",
       "      <td>2024-08-19 09:05:31</td>\n",
       "      <td>b'\\x01\\x01\\x00\\x00\\x00O\\x00\\x00\\x98\\xe5\\x15\\x0...</td>\n",
       "      <td>Issy-les-Moulineaux</td>\n",
       "      <td>92040</td>\n",
       "    </tr>\n",
       "    <tr>\n",
       "      <th>1269</th>\n",
       "      <td>11038</td>\n",
       "      <td>Temple - Charlot</td>\n",
       "      <td>OUI</td>\n",
       "      <td>45.0</td>\n",
       "      <td>6</td>\n",
       "      <td>38</td>\n",
       "      <td>37</td>\n",
       "      <td>1</td>\n",
       "      <td>OUI</td>\n",
       "      <td>OUI</td>\n",
       "      <td>2024-08-19 09:03:22</td>\n",
       "      <td>b'\\x01\\x01\\x00\\x00\\x00C1z\\xa1\\x14\\xec\\x02@\\x04...</td>\n",
       "      <td>Paris</td>\n",
       "      <td>75056</td>\n",
       "    </tr>\n",
       "    <tr>\n",
       "      <th>488</th>\n",
       "      <td>41204</td>\n",
       "      <td>République - Danton</td>\n",
       "      <td>OUI</td>\n",
       "      <td>20.0</td>\n",
       "      <td>19</td>\n",
       "      <td>1</td>\n",
       "      <td>0</td>\n",
       "      <td>1</td>\n",
       "      <td>OUI</td>\n",
       "      <td>OUI</td>\n",
       "      <td>2024-08-19 09:00:12</td>\n",
       "      <td>b'\\x01\\x01\\x00\\x00\\x00\\x00\\x00\\x00(?\\xb2\\x03@\\...</td>\n",
       "      <td>Fontenay-sous-Bois</td>\n",
       "      <td>94033</td>\n",
       "    </tr>\n",
       "    <tr>\n",
       "      <th>1050</th>\n",
       "      <td>42211</td>\n",
       "      <td>Séminaire de Conflans - Liberté</td>\n",
       "      <td>OUI</td>\n",
       "      <td>26.0</td>\n",
       "      <td>2</td>\n",
       "      <td>23</td>\n",
       "      <td>9</td>\n",
       "      <td>14</td>\n",
       "      <td>OUI</td>\n",
       "      <td>OUI</td>\n",
       "      <td>2024-08-19 09:00:06</td>\n",
       "      <td>b'\\x01\\x01\\x00\\x00\\x00\\x02\\xd7\\x153\\xc2;\\x03@\\...</td>\n",
       "      <td>Charenton-le-Pont</td>\n",
       "      <td>94018</td>\n",
       "    </tr>\n",
       "  </tbody>\n",
       "</table>\n",
       "</div>"
      ],
      "text/plain": [
       "     stationcode                               name is_installed  capacity  \\\n",
       "1129       34011  Clef des Champs - Albert Dhalenne          OUI      28.0   \n",
       "283        21305              Place Jacques Madaule          OUI      25.0   \n",
       "1269       11038                   Temple - Charlot          OUI      45.0   \n",
       "488        41204                République - Danton          OUI      20.0   \n",
       "1050       42211    Séminaire de Conflans - Liberté          OUI      26.0   \n",
       "\n",
       "      numdocksavailable  numbikesavailable  mechanical  ebike is_renting  \\\n",
       "1129                 12                 16           8      8        OUI   \n",
       "283                   0                 25          18      7        OUI   \n",
       "1269                  6                 38          37      1        OUI   \n",
       "488                  19                  1           0      1        OUI   \n",
       "1050                  2                 23           9     14        OUI   \n",
       "\n",
       "     is_returning             duedate  \\\n",
       "1129          OUI 2024-08-19 09:03:12   \n",
       "283           OUI 2024-08-19 09:05:31   \n",
       "1269          OUI 2024-08-19 09:03:22   \n",
       "488           OUI 2024-08-19 09:00:12   \n",
       "1050          OUI 2024-08-19 09:00:06   \n",
       "\n",
       "                                        coordonnees_geo  \\\n",
       "1129  b'\\x01\\x01\\x00\\x00\\x00it\\x07\\xb13\\xa5\\x02@\\x0f...   \n",
       "283   b'\\x01\\x01\\x00\\x00\\x00O\\x00\\x00\\x98\\xe5\\x15\\x0...   \n",
       "1269  b'\\x01\\x01\\x00\\x00\\x00C1z\\xa1\\x14\\xec\\x02@\\x04...   \n",
       "488   b'\\x01\\x01\\x00\\x00\\x00\\x00\\x00\\x00(?\\xb2\\x03@\\...   \n",
       "1050  b'\\x01\\x01\\x00\\x00\\x00\\x02\\xd7\\x153\\xc2;\\x03@\\...   \n",
       "\n",
       "     nom_arrondissement_communes code_insee_commune  \n",
       "1129        Saint-Ouen-sur-Seine              93070  \n",
       "283          Issy-les-Moulineaux              92040  \n",
       "1269                       Paris              75056  \n",
       "488           Fontenay-sous-Bois              94033  \n",
       "1050           Charenton-le-Pont              94018  "
      ]
     },
     "execution_count": 3,
     "metadata": {},
     "output_type": "execute_result"
    }
   ],
   "source": [
    "df.sample(5)"
   ]
  },
  {
   "cell_type": "code",
   "execution_count": null,
   "metadata": {},
   "outputs": [],
   "source": []
  }
 ],
 "metadata": {
  "kernelspec": {
   "display_name": ".venv",
   "language": "python",
   "name": "python3"
  },
  "language_info": {
   "codemirror_mode": {
    "name": "ipython",
    "version": 3
   },
   "file_extension": ".py",
   "mimetype": "text/x-python",
   "name": "python",
   "nbconvert_exporter": "python",
   "pygments_lexer": "ipython3",
   "version": "3.11.8"
  }
 },
 "nbformat": 4,
 "nbformat_minor": 2
}
