{
 "cells": [
  {
   "cell_type": "markdown",
   "metadata": {},
   "source": [
    "# Analyze to create dataset"
   ]
  },
  {
   "cell_type": "markdown",
   "metadata": {},
   "source": [
    "# 1. Imports"
   ]
  },
  {
   "cell_type": "markdown",
   "metadata": {},
   "source": [
    "## 1.1 Packages"
   ]
  },
  {
   "cell_type": "code",
   "execution_count": 149,
   "metadata": {},
   "outputs": [],
   "source": [
    "import gc\n",
    "import os\n",
    "import sys\n",
    "from pathlib import Path\n",
    "\n",
    "import hopsworks\n",
    "import pandas as pd\n"
   ]
  },
  {
   "cell_type": "markdown",
   "metadata": {},
   "source": [
    "## 1.2 Options"
   ]
  },
  {
   "cell_type": "code",
   "execution_count": 150,
   "metadata": {},
   "outputs": [
    {
     "name": "stdout",
     "output_type": "stream",
     "text": [
      "The autoreload extension is already loaded. To reload it, use:\n",
      "  %reload_ext autoreload\n"
     ]
    }
   ],
   "source": [
    "%load_ext autoreload\n",
    "%autoreload 2"
   ]
  },
  {
   "cell_type": "code",
   "execution_count": 151,
   "metadata": {},
   "outputs": [],
   "source": [
    "\n",
    "project_root: Path=Path().absolute() / \"..\"\n",
    "sys.path.append(os.path.join(project_root, \"src\"))"
   ]
  },
  {
   "cell_type": "markdown",
   "metadata": {},
   "source": [
    "## 1.3 Functions"
   ]
  },
  {
   "cell_type": "code",
   "execution_count": 152,
   "metadata": {},
   "outputs": [],
   "source": [
    "from velib_prediction.pipelines.data_engineering.nodes import (\n",
    "    create_feature_description,\n",
    "    create_idx,\n",
    "    list_parquet_files,\n",
    ")\n"
   ]
  },
  {
   "cell_type": "markdown",
   "metadata": {},
   "source": [
    "# 2. Data"
   ]
  },
  {
   "cell_type": "markdown",
   "metadata": {},
   "source": [
    "## 2.1 Load data"
   ]
  },
  {
   "cell_type": "code",
   "execution_count": 153,
   "metadata": {},
   "outputs": [
    {
     "data": {
      "text/plain": [
       "['../data/01_raw/velib_2024_10_20T01_01_10_463z.parquet',\n",
       " '../data/01_raw/velib_2024_10_19T16_12_14_282z.parquet',\n",
       " '../data/01_raw/velib_2024_10_20T08_15_24_155z.parquet',\n",
       " '../data/01_raw/velib_2024_10_20T09_12_38_781z.parquet',\n",
       " '../data/01_raw/velib_2024_10_19T23_12_13_598z.parquet',\n",
       " '../data/01_raw/velib_2024_10_20T10_13_15_125z.parquet',\n",
       " '../data/01_raw/velib_2024_10_20T02_26_01_849z.parquet',\n",
       " '../data/01_raw/velib_2024_10_19T22_12_24_379z.parquet',\n",
       " '../data/01_raw/velib_2024_10_19T17_11_41_188z.parquet',\n",
       " '../data/01_raw/velib_2024_10_20T05_11_57_356z.parquet',\n",
       " '../data/01_raw/velib_2024_10_19T18_15_02_973z.parquet',\n",
       " '../data/01_raw/velib_2024_10_19T20_12_28_942z.parquet',\n",
       " '../data/01_raw/velib_2024_10_20T13_18_05_871z.parquet',\n",
       " '../data/01_raw/velib_2024_10_20T04_15_11_668z.parquet',\n",
       " '../data/01_raw/velib_2024_10_20T12_22_05_300z.parquet',\n",
       " '../data/01_raw/velib_2024_10_20T06_16_33_549z.parquet',\n",
       " '../data/01_raw/velib_2024_10_19T19_10_45_042z.parquet',\n",
       " '../data/01_raw/velib_2024_10_20T03_23_03_810z.parquet',\n",
       " '../data/01_raw/velib_2024_10_19T21_11_48_904z.parquet',\n",
       " '../data/01_raw/velib_2024_10_20T11_10_55_102z.parquet',\n",
       " '../data/01_raw/velib_2024_10_20T07_11_49_281z.parquet']"
      ]
     },
     "execution_count": 153,
     "metadata": {},
     "output_type": "execute_result"
    }
   ],
   "source": [
    "list_files = list_parquet_files(path=\"../data/01_raw/\")\n",
    "list_files.pop(0)\n",
    "list_files"
   ]
  },
  {
   "cell_type": "code",
   "execution_count": 154,
   "metadata": {},
   "outputs": [],
   "source": [
    "df = pd.read_parquet(list_files[0])"
   ]
  },
  {
   "cell_type": "code",
   "execution_count": 155,
   "metadata": {},
   "outputs": [],
   "source": [
    "def merge_datasets(list_files: list[str]) -> pd.DataFrame:\n",
    "    \"\"\"Merge all datasets into one\n",
    "\n",
    "    Args:\n",
    "        list_files (list[str]): List of paths to all datasets in parquet files.\n",
    "    Returns:\n",
    "        df_final (pd.DataFrame): Output dataframe\n",
    "    \"\"\"\n",
    "    df_final = pd.DataFrame()\n",
    "    for file in list_files:\n",
    "        df = pd.read_parquet(file)\n",
    "        df_final = pd.concat([df_final, df])\n",
    "        # Free memory\n",
    "        del df\n",
    "        gc.collect()\n",
    "    return df_final"
   ]
  },
  {
   "cell_type": "code",
   "execution_count": 156,
   "metadata": {},
   "outputs": [],
   "source": [
    "df = merge_datasets(list_files)"
   ]
  },
  {
   "cell_type": "code",
   "execution_count": 157,
   "metadata": {},
   "outputs": [],
   "source": [
    "df = create_idx(df)"
   ]
  },
  {
   "cell_type": "code",
   "execution_count": 158,
   "metadata": {},
   "outputs": [
    {
     "data": {
      "text/html": [
       "<div>\n",
       "<style scoped>\n",
       "    .dataframe tbody tr th:only-of-type {\n",
       "        vertical-align: middle;\n",
       "    }\n",
       "\n",
       "    .dataframe tbody tr th {\n",
       "        vertical-align: top;\n",
       "    }\n",
       "\n",
       "    .dataframe thead th {\n",
       "        text-align: right;\n",
       "    }\n",
       "</style>\n",
       "<table border=\"1\" class=\"dataframe\">\n",
       "  <thead>\n",
       "    <tr style=\"text-align: right;\">\n",
       "      <th></th>\n",
       "      <th>idx</th>\n",
       "      <th>stationcode</th>\n",
       "      <th>name</th>\n",
       "      <th>is_installed</th>\n",
       "      <th>capacity</th>\n",
       "      <th>numdocksavailable</th>\n",
       "      <th>numbikesavailable</th>\n",
       "      <th>mechanical</th>\n",
       "      <th>ebike</th>\n",
       "      <th>is_renting</th>\n",
       "      <th>is_returning</th>\n",
       "      <th>duedate</th>\n",
       "      <th>coordonnees_geo</th>\n",
       "      <th>nom_arrondissement_communes</th>\n",
       "      <th>code_insee_commune</th>\n",
       "    </tr>\n",
       "  </thead>\n",
       "  <tbody>\n",
       "    <tr>\n",
       "      <th>1</th>\n",
       "      <td>140141729352667</td>\n",
       "      <td>14014</td>\n",
       "      <td>Jourdan - Stade Charléty</td>\n",
       "      <td>OUI</td>\n",
       "      <td>60</td>\n",
       "      <td>34</td>\n",
       "      <td>22</td>\n",
       "      <td>15</td>\n",
       "      <td>7</td>\n",
       "      <td>OUI</td>\n",
       "      <td>OUI</td>\n",
       "      <td>2024-10-19 15:44:27+00:00</td>\n",
       "      <td>{'lat': 48.819428333369, 'lon': 2.3433353751898}</td>\n",
       "      <td>Paris</td>\n",
       "      <td>75056</td>\n",
       "    </tr>\n",
       "    <tr>\n",
       "      <th>9</th>\n",
       "      <td>170261729424762</td>\n",
       "      <td>17026</td>\n",
       "      <td>Jouffroy d'Abbans - Wagram</td>\n",
       "      <td>OUI</td>\n",
       "      <td>40</td>\n",
       "      <td>38</td>\n",
       "      <td>2</td>\n",
       "      <td>1</td>\n",
       "      <td>1</td>\n",
       "      <td>OUI</td>\n",
       "      <td>OUI</td>\n",
       "      <td>2024-10-20 11:46:02+00:00</td>\n",
       "      <td>{'lat': 48.881973298352, 'lon': 2.301132157445}</td>\n",
       "      <td>Paris</td>\n",
       "      <td>75056</td>\n",
       "    </tr>\n",
       "    <tr>\n",
       "      <th>5</th>\n",
       "      <td>110251729403194</td>\n",
       "      <td>11025</td>\n",
       "      <td>Froment - Bréguet</td>\n",
       "      <td>OUI</td>\n",
       "      <td>43</td>\n",
       "      <td>0</td>\n",
       "      <td>40</td>\n",
       "      <td>28</td>\n",
       "      <td>12</td>\n",
       "      <td>OUI</td>\n",
       "      <td>OUI</td>\n",
       "      <td>2024-10-20 05:46:34+00:00</td>\n",
       "      <td>{'lat': 48.8570414504784, 'lon': 2.37289470306...</td>\n",
       "      <td>Paris</td>\n",
       "      <td>75056</td>\n",
       "    </tr>\n",
       "    <tr>\n",
       "      <th>2</th>\n",
       "      <td>140141729410389</td>\n",
       "      <td>14014</td>\n",
       "      <td>Jourdan - Stade Charléty</td>\n",
       "      <td>OUI</td>\n",
       "      <td>60</td>\n",
       "      <td>28</td>\n",
       "      <td>28</td>\n",
       "      <td>17</td>\n",
       "      <td>11</td>\n",
       "      <td>OUI</td>\n",
       "      <td>OUI</td>\n",
       "      <td>2024-10-20 07:46:29+00:00</td>\n",
       "      <td>{'lat': 48.819428333369, 'lon': 2.3433353751898}</td>\n",
       "      <td>Paris</td>\n",
       "      <td>75056</td>\n",
       "    </tr>\n",
       "    <tr>\n",
       "      <th>1</th>\n",
       "      <td>111041729406695</td>\n",
       "      <td>11104</td>\n",
       "      <td>Charonne - Robert et Sonia Delaunay</td>\n",
       "      <td>OUI</td>\n",
       "      <td>20</td>\n",
       "      <td>18</td>\n",
       "      <td>2</td>\n",
       "      <td>0</td>\n",
       "      <td>2</td>\n",
       "      <td>OUI</td>\n",
       "      <td>OUI</td>\n",
       "      <td>2024-10-20 06:44:55+00:00</td>\n",
       "      <td>{'lat': 48.855907555969, 'lon': 2.3925706744194}</td>\n",
       "      <td>Paris</td>\n",
       "      <td>75056</td>\n",
       "    </tr>\n",
       "  </tbody>\n",
       "</table>\n",
       "</div>"
      ],
      "text/plain": [
       "               idx stationcode                                 name  \\\n",
       "1  140141729352667       14014             Jourdan - Stade Charléty   \n",
       "9  170261729424762       17026           Jouffroy d'Abbans - Wagram   \n",
       "5  110251729403194       11025                    Froment - Bréguet   \n",
       "2  140141729410389       14014             Jourdan - Stade Charléty   \n",
       "1  111041729406695       11104  Charonne - Robert et Sonia Delaunay   \n",
       "\n",
       "  is_installed  capacity  numdocksavailable  numbikesavailable  mechanical  \\\n",
       "1          OUI        60                 34                 22          15   \n",
       "9          OUI        40                 38                  2           1   \n",
       "5          OUI        43                  0                 40          28   \n",
       "2          OUI        60                 28                 28          17   \n",
       "1          OUI        20                 18                  2           0   \n",
       "\n",
       "   ebike is_renting is_returning                   duedate  \\\n",
       "1      7        OUI          OUI 2024-10-19 15:44:27+00:00   \n",
       "9      1        OUI          OUI 2024-10-20 11:46:02+00:00   \n",
       "5     12        OUI          OUI 2024-10-20 05:46:34+00:00   \n",
       "2     11        OUI          OUI 2024-10-20 07:46:29+00:00   \n",
       "1      2        OUI          OUI 2024-10-20 06:44:55+00:00   \n",
       "\n",
       "                                     coordonnees_geo  \\\n",
       "1   {'lat': 48.819428333369, 'lon': 2.3433353751898}   \n",
       "9    {'lat': 48.881973298352, 'lon': 2.301132157445}   \n",
       "5  {'lat': 48.8570414504784, 'lon': 2.37289470306...   \n",
       "2   {'lat': 48.819428333369, 'lon': 2.3433353751898}   \n",
       "1   {'lat': 48.855907555969, 'lon': 2.3925706744194}   \n",
       "\n",
       "  nom_arrondissement_communes code_insee_commune  \n",
       "1                       Paris              75056  \n",
       "9                       Paris              75056  \n",
       "5                       Paris              75056  \n",
       "2                       Paris              75056  \n",
       "1                       Paris              75056  "
      ]
     },
     "execution_count": 158,
     "metadata": {},
     "output_type": "execute_result"
    }
   ],
   "source": [
    "df.sample(5, random_state=12)"
   ]
  },
  {
   "cell_type": "markdown",
   "metadata": {},
   "source": [
    "## 2.2 Log to Hopsworks"
   ]
  },
  {
   "cell_type": "code",
   "execution_count": 159,
   "metadata": {},
   "outputs": [
    {
     "name": "stdout",
     "output_type": "stream",
     "text": [
      "Connection closed.\n",
      "Connected. Call `.close()` to terminate connection gracefully.\n",
      "\n",
      "Logged in to project, explore it here https://c.app.hopsworks.ai:443/p/24732\n",
      "Connected. Call `.close()` to terminate connection gracefully.\n"
     ]
    }
   ],
   "source": [
    "project = hopsworks.login()\n",
    "fs = project.get_feature_store()"
   ]
  },
  {
   "cell_type": "code",
   "execution_count": 160,
   "metadata": {},
   "outputs": [
    {
     "name": "stdout",
     "output_type": "stream",
     "text": [
      "<hsfs.feature_store.FeatureStore object at 0x17f944f10>\n"
     ]
    }
   ],
   "source": [
    "print(fs)"
   ]
  },
  {
   "cell_type": "code",
   "execution_count": 161,
   "metadata": {},
   "outputs": [],
   "source": [
    "data_fg = fs.get_or_create_feature_group(\n",
    "    name=\"velib_prediction\",\n",
    "    version=1,\n",
    "    primary_key=[\"idx\"],\n",
    "    online_enabled=True,\n",
    "    event_time=\"duedate\",\n",
    "    description=\"Predict velib availability\",\n",
    ")"
   ]
  },
  {
   "cell_type": "code",
   "execution_count": 162,
   "metadata": {},
   "outputs": [
    {
     "data": {
      "application/vnd.jupyter.widget-view+json": {
       "model_id": "dcb139775e594f9aab5fb8e0423341e4",
       "version_major": 2,
       "version_minor": 0
      },
      "text/plain": [
       "Uploading Dataframe: 0.00% |          | Rows 0/210 | Elapsed Time: 00:00 | Remaining Time: ?"
      ]
     },
     "metadata": {},
     "output_type": "display_data"
    },
    {
     "name": "stdout",
     "output_type": "stream",
     "text": [
      "Launching job: velib_prediction_1_offline_fg_materialization\n",
      "Job started successfully, you can follow the progress at \n",
      "https://c.app.hopsworks.ai/p/24732/jobs/named/velib_prediction_1_offline_fg_materialization/executions\n"
     ]
    },
    {
     "data": {
      "text/plain": [
       "(<hsfs.core.job.Job at 0x17f957a90>, None)"
      ]
     },
     "execution_count": 162,
     "metadata": {},
     "output_type": "execute_result"
    }
   ],
   "source": [
    "data_fg.insert(df)"
   ]
  },
  {
   "cell_type": "code",
   "execution_count": 163,
   "metadata": {},
   "outputs": [
    {
     "data": {
      "text/plain": [
       "[{'name': 'idx',\n",
       "  'description': 'Idx based on the station code and datetime as timestamp'},\n",
       " {'name': 'stationcode', 'description': 'Code of the velib station'},\n",
       " {'name': 'name', 'description': 'Name of the velib station'},\n",
       " {'name': 'is_installed', 'description': 'Is the velib station available'},\n",
       " {'name': 'capacity', 'description': 'Capacity of the velib station'},\n",
       " {'name': 'numdocksavailable',\n",
       "  'description': 'Number of docks available at the velib station'},\n",
       " {'name': 'numbikesavailable',\n",
       "  'description': 'Number of bikes available at the velib station'},\n",
       " {'name': 'mechanical',\n",
       "  'description': 'Number of mechanical bikes available at the station'},\n",
       " {'name': 'ebike', 'description': 'Number of ebikes available at the station'},\n",
       " {'name': 'is_renting', 'description': 'Bikes available for renting'},\n",
       " {'name': 'is_returning', 'description': 'Places available to return bikes'},\n",
       " {'name': 'duedate', 'description': 'Date of the data info'},\n",
       " {'name': 'coordonnees_geo',\n",
       "  'description': 'Geographical coordinates of the station'},\n",
       " {'name': 'nom_arrondissement_communes',\n",
       "  'description': 'Name of the city where the station is located'},\n",
       " {'name': 'code_insee_commune',\n",
       "  'description': 'Insee where the station is located'}]"
      ]
     },
     "execution_count": 163,
     "metadata": {},
     "output_type": "execute_result"
    }
   ],
   "source": [
    "feature_descriptions = create_feature_description()\n",
    "feature_descriptions"
   ]
  },
  {
   "cell_type": "code",
   "execution_count": 164,
   "metadata": {},
   "outputs": [],
   "source": [
    "for desc in feature_descriptions:\n",
    "    data_fg.update_feature_description(desc[\"name\"], desc[\"description\"])"
   ]
  },
  {
   "cell_type": "code",
   "execution_count": 165,
   "metadata": {},
   "outputs": [],
   "source": [
    "data_fg.statistics_config = {\n",
    "    \"enabled\": True,\n",
    "    \"histograms\": True,\n",
    "    \"correlations\": True,\n",
    "}\n",
    "\n",
    "# data_fg.update_statistics_config()\n",
    "# data_fg.compute_statistics()"
   ]
  },
  {
   "cell_type": "code",
   "execution_count": null,
   "metadata": {},
   "outputs": [],
   "source": []
  }
 ],
 "metadata": {
  "kernelspec": {
   "display_name": ".venv",
   "language": "python",
   "name": "python3"
  },
  "language_info": {
   "codemirror_mode": {
    "name": "ipython",
    "version": 3
   },
   "file_extension": ".py",
   "mimetype": "text/x-python",
   "name": "python",
   "nbconvert_exporter": "python",
   "pygments_lexer": "ipython3",
   "version": "3.11.8"
  }
 },
 "nbformat": 4,
 "nbformat_minor": 2
}
