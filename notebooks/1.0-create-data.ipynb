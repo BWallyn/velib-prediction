{
 "cells": [
  {
   "cell_type": "markdown",
   "metadata": {},
   "source": [
    "# Analyze to create dataset"
   ]
  },
  {
   "cell_type": "markdown",
   "metadata": {},
   "source": [
    "# 1. Imports"
   ]
  },
  {
   "cell_type": "markdown",
   "metadata": {},
   "source": [
    "## 1.1 Packages"
   ]
  },
  {
   "cell_type": "code",
   "execution_count": 12,
   "metadata": {},
   "outputs": [],
   "source": [
    "import gc\n",
    "import os\n",
    "import sys\n",
    "from pathlib import Path\n",
    "\n",
    "import pandas as pd\n"
   ]
  },
  {
   "cell_type": "markdown",
   "metadata": {},
   "source": [
    "## 1.2 Options"
   ]
  },
  {
   "cell_type": "code",
   "execution_count": 13,
   "metadata": {},
   "outputs": [
    {
     "name": "stdout",
     "output_type": "stream",
     "text": [
      "The autoreload extension is already loaded. To reload it, use:\n",
      "  %reload_ext autoreload\n"
     ]
    }
   ],
   "source": [
    "%load_ext autoreload\n",
    "%autoreload 2"
   ]
  },
  {
   "cell_type": "code",
   "execution_count": 14,
   "metadata": {},
   "outputs": [],
   "source": [
    "\n",
    "project_root: Path=Path().absolute() / \"..\"\n",
    "sys.path.append(os.path.join(project_root, \"src\"))"
   ]
  },
  {
   "cell_type": "markdown",
   "metadata": {},
   "source": [
    "## 1.3 Functions"
   ]
  },
  {
   "cell_type": "code",
   "execution_count": 15,
   "metadata": {},
   "outputs": [],
   "source": [
    "from velib_prediction.pipelines.data_engineering.nodes import list_parquet_files\n"
   ]
  },
  {
   "cell_type": "markdown",
   "metadata": {},
   "source": [
    "# 2. Data"
   ]
  },
  {
   "cell_type": "markdown",
   "metadata": {},
   "source": [
    "## 2.1 Load data"
   ]
  },
  {
   "cell_type": "code",
   "execution_count": 16,
   "metadata": {},
   "outputs": [
    {
     "data": {
      "text/plain": [
       "['../data/01_raw/velib_2024_10_20T01_01_10_463z.parquet',\n",
       " '../data/01_raw/velib_2024_10_19T16_12_14_282z.parquet',\n",
       " '../data/01_raw/velib_2024_10_20T08_15_24_155z.parquet',\n",
       " '../data/01_raw/velib_2024_10_20T09_12_38_781z.parquet',\n",
       " '../data/01_raw/velib_2024_10_19T23_12_13_598z.parquet',\n",
       " '../data/01_raw/velib_2024_10_20T10_13_15_125z.parquet',\n",
       " '../data/01_raw/velib_2024_10_20T02_26_01_849z.parquet',\n",
       " '../data/01_raw/velib_2024_10_19T22_12_24_379z.parquet',\n",
       " '../data/01_raw/velib_2024_10_19T17_11_41_188z.parquet',\n",
       " '../data/01_raw/velib_2024_10_20T05_11_57_356z.parquet',\n",
       " '../data/01_raw/velib_2024_10_19T18_15_02_973z.parquet',\n",
       " '../data/01_raw/velib_2024_10_19T20_12_28_942z.parquet',\n",
       " '../data/01_raw/velib_2024_10_20T13_18_05_871z.parquet',\n",
       " '../data/01_raw/velib_2024_10_20T04_15_11_668z.parquet',\n",
       " '../data/01_raw/velib_2024_10_20T12_22_05_300z.parquet',\n",
       " '../data/01_raw/velib_2024_10_20T06_16_33_549z.parquet',\n",
       " '../data/01_raw/velib_2024_10_19T19_10_45_042z.parquet',\n",
       " '../data/01_raw/velib_2024_10_20T03_23_03_810z.parquet',\n",
       " '../data/01_raw/velib_2024_10_19T21_11_48_904z.parquet',\n",
       " '../data/01_raw/velib_2024_10_20T11_10_55_102z.parquet',\n",
       " '../data/01_raw/velib_2024_10_20T07_11_49_281z.parquet']"
      ]
     },
     "execution_count": 16,
     "metadata": {},
     "output_type": "execute_result"
    }
   ],
   "source": [
    "list_files = list_parquet_files(path=\"../data/01_raw/\")\n",
    "list_files.pop(0)\n",
    "list_files"
   ]
  },
  {
   "cell_type": "code",
   "execution_count": 17,
   "metadata": {},
   "outputs": [],
   "source": [
    "df = pd.read_parquet(list_files[0])"
   ]
  },
  {
   "cell_type": "code",
   "execution_count": 18,
   "metadata": {},
   "outputs": [],
   "source": [
    "def merge_datasets(list_files: list[str]) -> pd.DataFrame:\n",
    "    \"\"\"Merge all datasets into one\n",
    "\n",
    "    Args:\n",
    "        list_files (list[str]): List of paths to all datasets in parquet files.\n",
    "    Returns:\n",
    "        df_final (pd.DataFrame): Output dataframe\n",
    "    \"\"\"\n",
    "    df_final = pd.DataFrame()\n",
    "    for file in list_files:\n",
    "        df = pd.read_parquet(file)\n",
    "        df_final = pd.concat([df_final, df])\n",
    "        # Free memory\n",
    "        del df\n",
    "        gc.collect()\n",
    "    return df_final"
   ]
  },
  {
   "cell_type": "code",
   "execution_count": 19,
   "metadata": {},
   "outputs": [],
   "source": [
    "df = merge_datasets(list_files)"
   ]
  },
  {
   "cell_type": "code",
   "execution_count": 20,
   "metadata": {},
   "outputs": [
    {
     "data": {
      "text/html": [
       "<div>\n",
       "<style scoped>\n",
       "    .dataframe tbody tr th:only-of-type {\n",
       "        vertical-align: middle;\n",
       "    }\n",
       "\n",
       "    .dataframe tbody tr th {\n",
       "        vertical-align: top;\n",
       "    }\n",
       "\n",
       "    .dataframe thead th {\n",
       "        text-align: right;\n",
       "    }\n",
       "</style>\n",
       "<table border=\"1\" class=\"dataframe\">\n",
       "  <thead>\n",
       "    <tr style=\"text-align: right;\">\n",
       "      <th></th>\n",
       "      <th>stationcode</th>\n",
       "      <th>name</th>\n",
       "      <th>is_installed</th>\n",
       "      <th>capacity</th>\n",
       "      <th>numdocksavailable</th>\n",
       "      <th>numbikesavailable</th>\n",
       "      <th>mechanical</th>\n",
       "      <th>ebike</th>\n",
       "      <th>is_renting</th>\n",
       "      <th>is_returning</th>\n",
       "      <th>duedate</th>\n",
       "      <th>coordonnees_geo</th>\n",
       "      <th>nom_arrondissement_communes</th>\n",
       "      <th>code_insee_commune</th>\n",
       "    </tr>\n",
       "  </thead>\n",
       "  <tbody>\n",
       "    <tr>\n",
       "      <th>0</th>\n",
       "      <td>9020</td>\n",
       "      <td>Toudouze - Clauzel</td>\n",
       "      <td>OUI</td>\n",
       "      <td>21</td>\n",
       "      <td>14</td>\n",
       "      <td>6</td>\n",
       "      <td>4</td>\n",
       "      <td>2</td>\n",
       "      <td>OUI</td>\n",
       "      <td>OUI</td>\n",
       "      <td>2024-10-19T21:42:12+00:00</td>\n",
       "      <td>{'lat': 48.87929591733507, 'lon': 2.3373600840...</td>\n",
       "      <td>Paris</td>\n",
       "      <td>75056</td>\n",
       "    </tr>\n",
       "    <tr>\n",
       "      <th>1</th>\n",
       "      <td>14111</td>\n",
       "      <td>Cassini - Denfert-Rochereau</td>\n",
       "      <td>OUI</td>\n",
       "      <td>25</td>\n",
       "      <td>12</td>\n",
       "      <td>11</td>\n",
       "      <td>4</td>\n",
       "      <td>7</td>\n",
       "      <td>OUI</td>\n",
       "      <td>OUI</td>\n",
       "      <td>2024-10-19T21:44:17+00:00</td>\n",
       "      <td>{'lat': 48.837525839067, 'lon': 2.3360354080796}</td>\n",
       "      <td>Paris</td>\n",
       "      <td>75056</td>\n",
       "    </tr>\n",
       "    <tr>\n",
       "      <th>2</th>\n",
       "      <td>14014</td>\n",
       "      <td>Jourdan - Stade Charléty</td>\n",
       "      <td>OUI</td>\n",
       "      <td>60</td>\n",
       "      <td>38</td>\n",
       "      <td>17</td>\n",
       "      <td>11</td>\n",
       "      <td>6</td>\n",
       "      <td>OUI</td>\n",
       "      <td>OUI</td>\n",
       "      <td>2024-10-19T21:45:01+00:00</td>\n",
       "      <td>{'lat': 48.819428333369, 'lon': 2.3433353751898}</td>\n",
       "      <td>Paris</td>\n",
       "      <td>75056</td>\n",
       "    </tr>\n",
       "    <tr>\n",
       "      <th>3</th>\n",
       "      <td>11104</td>\n",
       "      <td>Charonne - Robert et Sonia Delaunay</td>\n",
       "      <td>OUI</td>\n",
       "      <td>20</td>\n",
       "      <td>11</td>\n",
       "      <td>9</td>\n",
       "      <td>1</td>\n",
       "      <td>8</td>\n",
       "      <td>OUI</td>\n",
       "      <td>OUI</td>\n",
       "      <td>2024-10-19T21:38:51+00:00</td>\n",
       "      <td>{'lat': 48.855907555969, 'lon': 2.3925706744194}</td>\n",
       "      <td>Paris</td>\n",
       "      <td>75056</td>\n",
       "    </tr>\n",
       "    <tr>\n",
       "      <th>4</th>\n",
       "      <td>7002</td>\n",
       "      <td>Vaneau - Sèvres</td>\n",
       "      <td>OUI</td>\n",
       "      <td>35</td>\n",
       "      <td>24</td>\n",
       "      <td>11</td>\n",
       "      <td>11</td>\n",
       "      <td>0</td>\n",
       "      <td>OUI</td>\n",
       "      <td>OUI</td>\n",
       "      <td>2024-10-19T21:40:47+00:00</td>\n",
       "      <td>{'lat': 48.848563233059, 'lon': 2.3204218259346}</td>\n",
       "      <td>Paris</td>\n",
       "      <td>75056</td>\n",
       "    </tr>\n",
       "    <tr>\n",
       "      <th>...</th>\n",
       "      <td>...</td>\n",
       "      <td>...</td>\n",
       "      <td>...</td>\n",
       "      <td>...</td>\n",
       "      <td>...</td>\n",
       "      <td>...</td>\n",
       "      <td>...</td>\n",
       "      <td>...</td>\n",
       "      <td>...</td>\n",
       "      <td>...</td>\n",
       "      <td>...</td>\n",
       "      <td>...</td>\n",
       "      <td>...</td>\n",
       "      <td>...</td>\n",
       "    </tr>\n",
       "    <tr>\n",
       "      <th>5</th>\n",
       "      <td>11025</td>\n",
       "      <td>Froment - Bréguet</td>\n",
       "      <td>OUI</td>\n",
       "      <td>43</td>\n",
       "      <td>0</td>\n",
       "      <td>40</td>\n",
       "      <td>28</td>\n",
       "      <td>12</td>\n",
       "      <td>OUI</td>\n",
       "      <td>OUI</td>\n",
       "      <td>2024-10-20T05:46:34+00:00</td>\n",
       "      <td>{'lat': 48.8570414504784, 'lon': 2.37289470306...</td>\n",
       "      <td>Paris</td>\n",
       "      <td>75056</td>\n",
       "    </tr>\n",
       "    <tr>\n",
       "      <th>6</th>\n",
       "      <td>15047</td>\n",
       "      <td>Morillons - Dantzig</td>\n",
       "      <td>OUI</td>\n",
       "      <td>52</td>\n",
       "      <td>32</td>\n",
       "      <td>19</td>\n",
       "      <td>9</td>\n",
       "      <td>10</td>\n",
       "      <td>OUI</td>\n",
       "      <td>OUI</td>\n",
       "      <td>2024-10-20T05:44:31+00:00</td>\n",
       "      <td>{'lat': 48.83310149953933, 'lon': 2.2993800044...</td>\n",
       "      <td>Paris</td>\n",
       "      <td>75056</td>\n",
       "    </tr>\n",
       "    <tr>\n",
       "      <th>7</th>\n",
       "      <td>12109</td>\n",
       "      <td>Mairie du 12ème</td>\n",
       "      <td>OUI</td>\n",
       "      <td>30</td>\n",
       "      <td>2</td>\n",
       "      <td>27</td>\n",
       "      <td>27</td>\n",
       "      <td>0</td>\n",
       "      <td>OUI</td>\n",
       "      <td>OUI</td>\n",
       "      <td>2024-10-20T05:46:34+00:00</td>\n",
       "      <td>{'lat': 48.840855311763, 'lon': 2.3875549435616}</td>\n",
       "      <td>Paris</td>\n",
       "      <td>75056</td>\n",
       "    </tr>\n",
       "    <tr>\n",
       "      <th>8</th>\n",
       "      <td>8050</td>\n",
       "      <td>Boétie - Ponthieu</td>\n",
       "      <td>OUI</td>\n",
       "      <td>45</td>\n",
       "      <td>41</td>\n",
       "      <td>3</td>\n",
       "      <td>1</td>\n",
       "      <td>2</td>\n",
       "      <td>OUI</td>\n",
       "      <td>OUI</td>\n",
       "      <td>2024-10-20T05:43:35+00:00</td>\n",
       "      <td>{'lat': 48.871417284355, 'lon': 2.3076787590981}</td>\n",
       "      <td>Paris</td>\n",
       "      <td>75056</td>\n",
       "    </tr>\n",
       "    <tr>\n",
       "      <th>9</th>\n",
       "      <td>13101</td>\n",
       "      <td>Croulebarde - Corvisart</td>\n",
       "      <td>OUI</td>\n",
       "      <td>34</td>\n",
       "      <td>14</td>\n",
       "      <td>19</td>\n",
       "      <td>13</td>\n",
       "      <td>6</td>\n",
       "      <td>OUI</td>\n",
       "      <td>OUI</td>\n",
       "      <td>2024-10-20T05:41:25+00:00</td>\n",
       "      <td>{'lat': 48.830981659316855, 'lon': 2.348164692...</td>\n",
       "      <td>Paris</td>\n",
       "      <td>75056</td>\n",
       "    </tr>\n",
       "  </tbody>\n",
       "</table>\n",
       "<p>210 rows × 14 columns</p>\n",
       "</div>"
      ],
      "text/plain": [
       "   stationcode                                 name is_installed  capacity  \\\n",
       "0         9020                   Toudouze - Clauzel          OUI        21   \n",
       "1        14111          Cassini - Denfert-Rochereau          OUI        25   \n",
       "2        14014             Jourdan - Stade Charléty          OUI        60   \n",
       "3        11104  Charonne - Robert et Sonia Delaunay          OUI        20   \n",
       "4         7002                      Vaneau - Sèvres          OUI        35   \n",
       "..         ...                                  ...          ...       ...   \n",
       "5        11025                    Froment - Bréguet          OUI        43   \n",
       "6        15047                  Morillons - Dantzig          OUI        52   \n",
       "7        12109                      Mairie du 12ème          OUI        30   \n",
       "8         8050                    Boétie - Ponthieu          OUI        45   \n",
       "9        13101              Croulebarde - Corvisart          OUI        34   \n",
       "\n",
       "    numdocksavailable  numbikesavailable  mechanical  ebike is_renting  \\\n",
       "0                  14                  6           4      2        OUI   \n",
       "1                  12                 11           4      7        OUI   \n",
       "2                  38                 17          11      6        OUI   \n",
       "3                  11                  9           1      8        OUI   \n",
       "4                  24                 11          11      0        OUI   \n",
       "..                ...                ...         ...    ...        ...   \n",
       "5                   0                 40          28     12        OUI   \n",
       "6                  32                 19           9     10        OUI   \n",
       "7                   2                 27          27      0        OUI   \n",
       "8                  41                  3           1      2        OUI   \n",
       "9                  14                 19          13      6        OUI   \n",
       "\n",
       "   is_returning                    duedate  \\\n",
       "0           OUI  2024-10-19T21:42:12+00:00   \n",
       "1           OUI  2024-10-19T21:44:17+00:00   \n",
       "2           OUI  2024-10-19T21:45:01+00:00   \n",
       "3           OUI  2024-10-19T21:38:51+00:00   \n",
       "4           OUI  2024-10-19T21:40:47+00:00   \n",
       "..          ...                        ...   \n",
       "5           OUI  2024-10-20T05:46:34+00:00   \n",
       "6           OUI  2024-10-20T05:44:31+00:00   \n",
       "7           OUI  2024-10-20T05:46:34+00:00   \n",
       "8           OUI  2024-10-20T05:43:35+00:00   \n",
       "9           OUI  2024-10-20T05:41:25+00:00   \n",
       "\n",
       "                                      coordonnees_geo  \\\n",
       "0   {'lat': 48.87929591733507, 'lon': 2.3373600840...   \n",
       "1    {'lat': 48.837525839067, 'lon': 2.3360354080796}   \n",
       "2    {'lat': 48.819428333369, 'lon': 2.3433353751898}   \n",
       "3    {'lat': 48.855907555969, 'lon': 2.3925706744194}   \n",
       "4    {'lat': 48.848563233059, 'lon': 2.3204218259346}   \n",
       "..                                                ...   \n",
       "5   {'lat': 48.8570414504784, 'lon': 2.37289470306...   \n",
       "6   {'lat': 48.83310149953933, 'lon': 2.2993800044...   \n",
       "7    {'lat': 48.840855311763, 'lon': 2.3875549435616}   \n",
       "8    {'lat': 48.871417284355, 'lon': 2.3076787590981}   \n",
       "9   {'lat': 48.830981659316855, 'lon': 2.348164692...   \n",
       "\n",
       "   nom_arrondissement_communes code_insee_commune  \n",
       "0                        Paris              75056  \n",
       "1                        Paris              75056  \n",
       "2                        Paris              75056  \n",
       "3                        Paris              75056  \n",
       "4                        Paris              75056  \n",
       "..                         ...                ...  \n",
       "5                        Paris              75056  \n",
       "6                        Paris              75056  \n",
       "7                        Paris              75056  \n",
       "8                        Paris              75056  \n",
       "9                        Paris              75056  \n",
       "\n",
       "[210 rows x 14 columns]"
      ]
     },
     "execution_count": 20,
     "metadata": {},
     "output_type": "execute_result"
    }
   ],
   "source": [
    "df"
   ]
  },
  {
   "cell_type": "markdown",
   "metadata": {},
   "source": [
    "## 2.2 Log to Hopsworks"
   ]
  },
  {
   "cell_type": "code",
   "execution_count": null,
   "metadata": {},
   "outputs": [],
   "source": []
  }
 ],
 "metadata": {
  "kernelspec": {
   "display_name": ".venv",
   "language": "python",
   "name": "python3"
  },
  "language_info": {
   "codemirror_mode": {
    "name": "ipython",
    "version": 3
   },
   "file_extension": ".py",
   "mimetype": "text/x-python",
   "name": "python",
   "nbconvert_exporter": "python",
   "pygments_lexer": "ipython3",
   "version": "3.11.8"
  }
 },
 "nbformat": 4,
 "nbformat_minor": 2
}
