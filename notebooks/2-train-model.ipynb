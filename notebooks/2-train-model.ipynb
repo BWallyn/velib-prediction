{
 "cells": [
  {
   "cell_type": "markdown",
   "metadata": {},
   "source": [
    "# Train gradient boosting model"
   ]
  },
  {
   "cell_type": "markdown",
   "metadata": {},
   "source": [
    "# 1. Imports"
   ]
  },
  {
   "cell_type": "markdown",
   "metadata": {},
   "source": [
    "## 1.1 Packages"
   ]
  },
  {
   "cell_type": "code",
   "execution_count": 11,
   "metadata": {},
   "outputs": [],
   "source": [
    "import sys\n",
    "\n",
    "import pandas as pd\n"
   ]
  },
  {
   "cell_type": "markdown",
   "metadata": {},
   "source": [
    "## 1.2 Options"
   ]
  },
  {
   "cell_type": "code",
   "execution_count": 12,
   "metadata": {},
   "outputs": [
    {
     "name": "stdout",
     "output_type": "stream",
     "text": [
      "The autoreload extension is already loaded. To reload it, use:\n",
      "  %reload_ext autoreload\n"
     ]
    }
   ],
   "source": [
    "%load_ext autoreload\n",
    "%autoreload 2"
   ]
  },
  {
   "cell_type": "code",
   "execution_count": null,
   "metadata": {},
   "outputs": [],
   "source": [
    "sys.path.append('../src')\n",
    "\n",
    "from velib_prediction.pipelines.train_model.mlflow import (  # noqa: E402\n",
    "    create_mlflow_experiment,\n",
    ")\n",
    "from velib_prediction.pipelines.train_model.nodes import (  # noqa: E402\n",
    "    get_split_train_val_cv,\n",
    "    train_model_cv_mlflow,\n",
    ")\n"
   ]
  },
  {
   "cell_type": "markdown",
   "metadata": {},
   "source": [
    "## 1.3 Datasets"
   ]
  },
  {
   "cell_type": "code",
   "execution_count": 14,
   "metadata": {},
   "outputs": [
    {
     "data": {
      "text/html": [
       "<div>\n",
       "<style scoped>\n",
       "    .dataframe tbody tr th:only-of-type {\n",
       "        vertical-align: middle;\n",
       "    }\n",
       "\n",
       "    .dataframe tbody tr th {\n",
       "        vertical-align: top;\n",
       "    }\n",
       "\n",
       "    .dataframe thead th {\n",
       "        text-align: right;\n",
       "    }\n",
       "</style>\n",
       "<table border=\"1\" class=\"dataframe\">\n",
       "  <thead>\n",
       "    <tr style=\"text-align: right;\">\n",
       "      <th></th>\n",
       "      <th>idx</th>\n",
       "      <th>stationcode</th>\n",
       "      <th>is_installed</th>\n",
       "      <th>capacity</th>\n",
       "      <th>numdocksavailable</th>\n",
       "      <th>numbikesavailable</th>\n",
       "      <th>mechanical</th>\n",
       "      <th>ebike</th>\n",
       "      <th>is_renting</th>\n",
       "      <th>is_returning</th>\n",
       "      <th>duedate</th>\n",
       "      <th>coordonnees_geo</th>\n",
       "      <th>code_insee_commune</th>\n",
       "      <th>date</th>\n",
       "      <th>duedate_year</th>\n",
       "      <th>duedate_month</th>\n",
       "      <th>duedate_day</th>\n",
       "      <th>duedate_weekday</th>\n",
       "      <th>duedate_weekend</th>\n",
       "    </tr>\n",
       "  </thead>\n",
       "  <tbody>\n",
       "    <tr>\n",
       "      <th>1</th>\n",
       "      <td>90201729821482</td>\n",
       "      <td>9020</td>\n",
       "      <td>1</td>\n",
       "      <td>21</td>\n",
       "      <td>20</td>\n",
       "      <td>1</td>\n",
       "      <td>0</td>\n",
       "      <td>1</td>\n",
       "      <td>1</td>\n",
       "      <td>1</td>\n",
       "      <td>2024-10-25 01:58:02+00:00</td>\n",
       "      <td>{'lat': 48.87929591733507, 'lon': 2.3373600840...</td>\n",
       "      <td>75056</td>\n",
       "      <td>2024-10-25</td>\n",
       "      <td>2024</td>\n",
       "      <td>10</td>\n",
       "      <td>25</td>\n",
       "      <td>4</td>\n",
       "      <td>0</td>\n",
       "    </tr>\n",
       "    <tr>\n",
       "      <th>4</th>\n",
       "      <td>70021729666465</td>\n",
       "      <td>7002</td>\n",
       "      <td>1</td>\n",
       "      <td>35</td>\n",
       "      <td>27</td>\n",
       "      <td>7</td>\n",
       "      <td>7</td>\n",
       "      <td>0</td>\n",
       "      <td>1</td>\n",
       "      <td>1</td>\n",
       "      <td>2024-10-23 06:54:25+00:00</td>\n",
       "      <td>{'lat': 48.848563233059, 'lon': 2.3204218259346}</td>\n",
       "      <td>75056</td>\n",
       "      <td>2024-10-23</td>\n",
       "      <td>2024</td>\n",
       "      <td>10</td>\n",
       "      <td>23</td>\n",
       "      <td>2</td>\n",
       "      <td>0</td>\n",
       "    </tr>\n",
       "  </tbody>\n",
       "</table>\n",
       "</div>"
      ],
      "text/plain": [
       "              idx stationcode  is_installed  capacity  numdocksavailable  \\\n",
       "1  90201729821482        9020             1        21                 20   \n",
       "4  70021729666465        7002             1        35                 27   \n",
       "\n",
       "   numbikesavailable  mechanical  ebike  is_renting  is_returning  \\\n",
       "1                  1           0      1           1             1   \n",
       "4                  7           7      0           1             1   \n",
       "\n",
       "                    duedate  \\\n",
       "1 2024-10-25 01:58:02+00:00   \n",
       "4 2024-10-23 06:54:25+00:00   \n",
       "\n",
       "                                     coordonnees_geo code_insee_commune  \\\n",
       "1  {'lat': 48.87929591733507, 'lon': 2.3373600840...              75056   \n",
       "4   {'lat': 48.848563233059, 'lon': 2.3204218259346}              75056   \n",
       "\n",
       "         date  duedate_year  duedate_month  duedate_day  duedate_weekday  \\\n",
       "1  2024-10-25          2024             10           25                4   \n",
       "4  2024-10-23          2024             10           23                2   \n",
       "\n",
       "   duedate_weekend  \n",
       "1                0  \n",
       "4                0  "
      ]
     },
     "execution_count": 14,
     "metadata": {},
     "output_type": "execute_result"
    }
   ],
   "source": [
    "df_train = pd.read_parquet(\"../data/04_feature/df_feat_train.parquet\")\n",
    "df_train.sample(2)"
   ]
  },
  {
   "cell_type": "markdown",
   "metadata": {},
   "source": [
    "# 2. Prepare datasets"
   ]
  },
  {
   "cell_type": "code",
   "execution_count": 15,
   "metadata": {},
   "outputs": [],
   "source": [
    "df_train.drop(\n",
    "    columns=[\n",
    "        \"duedate\", \"coordonnees_geo\", \"date\"\n",
    "    ],\n",
    "    inplace=True\n",
    ")\n",
    "\n",
    "df_train.rename(columns={\"numbikesavailable\": \"target\"}, inplace=True)"
   ]
  },
  {
   "cell_type": "code",
   "execution_count": 16,
   "metadata": {},
   "outputs": [],
   "source": [
    "list_df = get_split_train_val_cv(df_train, n_splits=3)"
   ]
  },
  {
   "cell_type": "code",
   "execution_count": 17,
   "metadata": {},
   "outputs": [
    {
     "data": {
      "text/plain": [
       "3"
      ]
     },
     "execution_count": 17,
     "metadata": {},
     "output_type": "execute_result"
    }
   ],
   "source": [
    "len(list_df)"
   ]
  },
  {
   "cell_type": "code",
   "execution_count": 18,
   "metadata": {},
   "outputs": [],
   "source": [
    "feat_cat = [\n",
    "    \"is_installed\",\n",
    "    \"is_renting\",\n",
    "    \"is_returning\",\n",
    "    \"code_insee_commune\",\n",
    "    \"duedate_weekend\",\n",
    "]"
   ]
  },
  {
   "cell_type": "markdown",
   "metadata": {},
   "source": [
    "# 3. Train model"
   ]
  },
  {
   "cell_type": "code",
   "execution_count": 19,
   "metadata": {},
   "outputs": [
    {
     "data": {
      "text/plain": [
       "'232251782342021390'"
      ]
     },
     "execution_count": 19,
     "metadata": {},
     "output_type": "execute_result"
    }
   ],
   "source": [
    "experiment_id = create_mlflow_experiment(\n",
    "    experiment_folder_path=\"../reports/mlflow/\",\n",
    "    experiment_name=\"velib_prediction\"\n",
    ")\n",
    "experiment_id"
   ]
  },
  {
   "cell_type": "code",
   "execution_count": 20,
   "metadata": {},
   "outputs": [],
   "source": [
    "params_catboost = {\n",
    "    \"iterations\": 100,\n",
    "    \"depth\": 7,\n",
    "}"
   ]
  },
  {
   "cell_type": "code",
   "execution_count": 21,
   "metadata": {},
   "outputs": [
    {
     "name": "stdout",
     "output_type": "stream",
     "text": [
      "Learning rate set to 0.179928\n",
      "0:\tlearn: 7.8937182\ttest: 8.5246575\tbest: 8.5246575 (0)\ttotal: 57.2ms\tremaining: 5.66s\n",
      "10:\tlearn: 2.6720617\ttest: 3.4482533\tbest: 3.4482533 (10)\ttotal: 60.8ms\tremaining: 492ms\n",
      "20:\tlearn: 1.2439592\ttest: 2.1852701\tbest: 2.1852701 (20)\ttotal: 64.9ms\tremaining: 244ms\n",
      "30:\tlearn: 0.7914949\ttest: 1.8097632\tbest: 1.8097632 (30)\ttotal: 67.9ms\tremaining: 151ms\n",
      "40:\tlearn: 0.6124834\ttest: 1.6922961\tbest: 1.6922961 (40)\ttotal: 72.5ms\tremaining: 104ms\n",
      "50:\tlearn: 0.4875047\ttest: 1.6169685\tbest: 1.6169685 (50)\ttotal: 76.7ms\tremaining: 73.7ms\n",
      "60:\tlearn: 0.3924059\ttest: 1.5613925\tbest: 1.5613925 (60)\ttotal: 80.6ms\tremaining: 51.6ms\n",
      "70:\tlearn: 0.3330397\ttest: 1.5347338\tbest: 1.5347338 (70)\ttotal: 128ms\tremaining: 52.4ms\n",
      "80:\tlearn: 0.2771502\ttest: 1.5094332\tbest: 1.5094332 (80)\ttotal: 134ms\tremaining: 31.3ms\n",
      "90:\tlearn: 0.2303746\ttest: 1.4894493\tbest: 1.4894493 (90)\ttotal: 139ms\tremaining: 13.7ms\n",
      "99:\tlearn: 0.2043448\ttest: 1.4816550\tbest: 1.4816550 (99)\ttotal: 143ms\tremaining: 0us\n",
      "\n",
      "bestTest = 1.481655047\n",
      "bestIteration = 99\n",
      "\n"
     ]
    },
    {
     "name": "stderr",
     "output_type": "stream",
     "text": [
      "/Users/benjaminwallyn/Git/velib-prediction/.venv/lib/python3.11/site-packages/mlflow/types/utils.py:407: UserWarning: Hint: Inferred schema contains integer column(s). Integer columns in Python cannot represent missing values. If your input data contains missing values at inference time, it will be encoded as floats and will cause a schema enforcement error. The best way to avoid this problem is to infer the model schema based on a realistic data sample (training dataset) that includes missing values. Alternatively, you can declare integer columns as doubles (float64) whenever these columns may have missing values. See `Handling Integers With Missing Values <https://www.mlflow.org/docs/latest/models.html#handling-integers-with-missing-values>`_ for more details.\n",
      "  warnings.warn(\n",
      "2024/11/01 15:49:45 WARNING mlflow.models.signature: Failed to infer the model signature from the input example. Reason: MlflowException(\"Failed to enforce schema of data '                 idx stationcode  is_installed  capacity  numdocksavailable  \\\\\\n70   161071729727688       16107             1        35                 30   \\n218  170261729691440       17026             1        40                 32   \\n384  111041729536287       11104             1        20                 15   \\n33    60031729734711        6003             1        21                 18   \\n42    70021729857468        7002             1        35                 30   \\n77   210101729727660       21010             1        25                  2   \\n137  150471729626740       15047             1        52                 32   \\n331   90201729940334        9020             1        21                 20   \\n365  170261729471705       17026             1        40                 19   \\n265   50161729612115        5016             1        17                  9   \\n\\n     mechanical  ebike  is_renting  is_returning code_insee_commune  \\\\\\n70            2      2           1             1              75056   \\n218           5      3           1             1              75056   \\n384           1      3           1             1              75056   \\n33            0      2           1             1              75056   \\n42            5      0           1             1              75056   \\n77           13      9           1             1              92012   \\n137           9      8           1             1              75056   \\n331           0      1           1             1              75056   \\n365          12      7           1             1              75056   \\n265           2      5           1             1              75056   \\n\\n     duedate_year  duedate_month  duedate_day  duedate_weekday  \\\\\\n70           2024             10           23                2   \\n218          2024             10           23                2   \\n384          2024             10           21                0   \\n33           2024             10           24                3   \\n42           2024             10           25                4   \\n77           2024             10           23                2   \\n137          2024             10           22                1   \\n331          2024             10           26                5   \\n365          2024             10           21                0   \\n265          2024             10           22                1   \\n\\n     duedate_weekend  \\n70                 0  \\n218                0  \\n384                0  \\n33                 0  \\n42                 0  \\n77                 0  \\n137                0  \\n331                1  \\n365                0  \\n265                0  ' with schema '['idx': string (required), 'stationcode': string (required), 'is_installed': long (required), 'capacity': long (required), 'numdocksavailable': long (required), 'mechanical': long (required), 'ebike': long (required), 'is_renting': long (required), 'is_returning': long (required), 'code_insee_commune': string (required), 'duedate_year': integer (required), 'duedate_month': integer (required), 'duedate_day': integer (required), 'duedate_weekday': integer (required), 'duedate_weekend': long (required)]'. Error: Incompatible input types for column idx. Can not safely convert string to <U0.\"). To see the full traceback, set the logging level to DEBUG via `logging.getLogger(\"mlflow\").setLevel(logging.DEBUG)`. To disable automatic signature inference, set `signature` to `False` in your `log_model` or `save_model` call.\n"
     ]
    },
    {
     "data": {
      "application/vnd.jupyter.widget-view+json": {
       "model_id": "4234490ef2a84d8d842e505727632be0",
       "version_major": 2,
       "version_minor": 0
      },
      "text/plain": [
       "Downloading artifacts:   0%|          | 0/7 [00:00<?, ?it/s]"
      ]
     },
     "metadata": {},
     "output_type": "display_data"
    },
    {
     "name": "stderr",
     "output_type": "stream",
     "text": [
      "/Users/benjaminwallyn/Git/velib-prediction/.venv/lib/python3.11/site-packages/mlflow/types/utils.py:407: UserWarning: Hint: Inferred schema contains integer column(s). Integer columns in Python cannot represent missing values. If your input data contains missing values at inference time, it will be encoded as floats and will cause a schema enforcement error. The best way to avoid this problem is to infer the model schema based on a realistic data sample (training dataset) that includes missing values. Alternatively, you can declare integer columns as doubles (float64) whenever these columns may have missing values. See `Handling Integers With Missing Values <https://www.mlflow.org/docs/latest/models.html#handling-integers-with-missing-values>`_ for more details.\n",
      "  warnings.warn(\n",
      "2024/11/01 15:49:48 WARNING mlflow.models.signature: Failed to infer the model signature from the input example. Reason: MlflowException(\"Failed to enforce schema of data '                 idx stationcode  is_installed  capacity  numdocksavailable  \\\\\\n697  170261729879277       17026             1        40                 30   \\n296   60031729633987        6003             1        21                 15   \\n227   50161729803533        5016             1        17                  9   \\n336  170411729940163       17041             1        36                 28   \\n537   60031729889980        6003             1        21                 18   \\n792  140141729352667       14014             1        60                 34   \\n198  110251729478736       11025             1        43                  9   \\n247  150471729438918       15047             1        52                 48   \\n448   70031729367027        7003             1        60                 52   \\n572  130071729576013       13007             1        48                 34   \\n\\n     mechanical  ebike  is_renting  is_returning code_insee_commune  \\\\\\n697           3      4           1             1              75056   \\n296           5      1           1             1              75056   \\n227           2      6           1             1              75056   \\n336           6      1           1             1              75056   \\n537           2      1           1             1              75056   \\n792          15      7           1             1              75056   \\n198          27      4           1             1              75056   \\n247           0      3           1             1              75056   \\n448           4      3           1             1              75056   \\n572           9      5           1             1              75056   \\n\\n     duedate_year  duedate_month  duedate_day  duedate_weekday  \\\\\\n697          2024             10           25                4   \\n296          2024             10           22                1   \\n227          2024             10           24                3   \\n336          2024             10           26                5   \\n537          2024             10           25                4   \\n792          2024             10           19                5   \\n198          2024             10           21                0   \\n247          2024             10           20                6   \\n448          2024             10           19                5   \\n572          2024             10           22                1   \\n\\n     duedate_weekend  \\n697                0  \\n296                0  \\n227                0  \\n336                1  \\n537                0  \\n792                1  \\n198                0  \\n247                1  \\n448                1  \\n572                0  ' with schema '['idx': string (required), 'stationcode': string (required), 'is_installed': long (required), 'capacity': long (required), 'numdocksavailable': long (required), 'mechanical': long (required), 'ebike': long (required), 'is_renting': long (required), 'is_returning': long (required), 'code_insee_commune': string (required), 'duedate_year': integer (required), 'duedate_month': integer (required), 'duedate_day': integer (required), 'duedate_weekday': integer (required), 'duedate_weekend': long (required)]'. Error: Incompatible input types for column idx. Can not safely convert string to <U0.\"). To see the full traceback, set the logging level to DEBUG via `logging.getLogger(\"mlflow\").setLevel(logging.DEBUG)`. To disable automatic signature inference, set `signature` to `False` in your `log_model` or `save_model` call.\n"
     ]
    },
    {
     "name": "stdout",
     "output_type": "stream",
     "text": [
      "Learning rate set to 0.200535\n",
      "0:\tlearn: 7.8998344\ttest: 9.1757075\tbest: 9.1757075 (0)\ttotal: 429us\tremaining: 42.5ms\n",
      "10:\tlearn: 2.0744299\ttest: 2.9789295\tbest: 2.9789295 (10)\ttotal: 6.21ms\tremaining: 50.2ms\n",
      "20:\tlearn: 0.9610734\ttest: 1.9268642\tbest: 1.9268642 (20)\ttotal: 9.98ms\tremaining: 37.6ms\n",
      "30:\tlearn: 0.6671856\ttest: 1.6409085\tbest: 1.6409085 (30)\ttotal: 13.9ms\tremaining: 31ms\n",
      "40:\tlearn: 0.5185374\ttest: 1.5291467\tbest: 1.5291467 (40)\ttotal: 17.4ms\tremaining: 25ms\n",
      "50:\tlearn: 0.4220873\ttest: 1.4829977\tbest: 1.4829977 (50)\ttotal: 23.3ms\tremaining: 22.4ms\n",
      "60:\tlearn: 0.3545840\ttest: 1.4474840\tbest: 1.4462133 (59)\ttotal: 26.6ms\tremaining: 17ms\n",
      "70:\tlearn: 0.3131330\ttest: 1.4279304\tbest: 1.4279304 (70)\ttotal: 30.7ms\tremaining: 12.5ms\n",
      "80:\tlearn: 0.2784170\ttest: 1.4122493\tbest: 1.4122493 (80)\ttotal: 35ms\tremaining: 8.2ms\n",
      "90:\tlearn: 0.2445950\ttest: 1.3976580\tbest: 1.3976580 (90)\ttotal: 38.5ms\tremaining: 3.81ms\n",
      "99:\tlearn: 0.2214155\ttest: 1.3884084\tbest: 1.3878648 (98)\ttotal: 41.5ms\tremaining: 0us\n",
      "\n",
      "bestTest = 1.38786476\n",
      "bestIteration = 98\n",
      "\n",
      "Shrink model to first 99 iterations.\n"
     ]
    },
    {
     "data": {
      "application/vnd.jupyter.widget-view+json": {
       "model_id": "f72d97020e144b679830be2c43c72a9a",
       "version_major": 2,
       "version_minor": 0
      },
      "text/plain": [
       "Downloading artifacts:   0%|          | 0/7 [00:00<?, ?it/s]"
      ]
     },
     "metadata": {},
     "output_type": "display_data"
    },
    {
     "name": "stderr",
     "output_type": "stream",
     "text": [
      "/Users/benjaminwallyn/Git/velib-prediction/.venv/lib/python3.11/site-packages/mlflow/types/utils.py:407: UserWarning: Hint: Inferred schema contains integer column(s). Integer columns in Python cannot represent missing values. If your input data contains missing values at inference time, it will be encoded as floats and will cause a schema enforcement error. The best way to avoid this problem is to infer the model schema based on a realistic data sample (training dataset) that includes missing values. Alternatively, you can declare integer columns as doubles (float64) whenever these columns may have missing values. See `Handling Integers With Missing Values <https://www.mlflow.org/docs/latest/models.html#handling-integers-with-missing-values>`_ for more details.\n",
      "  warnings.warn(\n",
      "2024/11/01 15:49:49 WARNING mlflow.models.signature: Failed to infer the model signature from the input example. Reason: MlflowException(\"Failed to enforce schema of data '                  idx stationcode  is_installed  capacity  numdocksavailable  \\\\\\n101   140141729568938       14014             1        60                 33   \\n754   130071729630388       13007             1        48                 32   \\n308    50161729911637        5016             1        17                 16   \\n109    60211729569068        6021             1        20                 19   \\n650    90201729464348        9020             1        21                 19   \\n458   110251729413928       11025             1        43                  5   \\n231   140141729926138       14014             1        60                 37   \\n49    141081729857573       14108             1        21                 17   \\n759   121091729630391       12109             1        30                  2   \\n1092   61081729363401        6108             1        17                 11   \\n\\n      mechanical  ebike  is_renting  is_returning code_insee_commune  \\\\\\n101           10     12           1             1              75056   \\n754            6      7           1             1              75056   \\n308            0      1           1             1              75056   \\n109            1      0           1             1              75056   \\n650            0      1           1             1              75056   \\n458           29      4           1             1              75056   \\n231           12      8           1             1              75056   \\n49             1      3           1             1              75056   \\n759           23      5           1             1              75056   \\n1092           4      2           1             1              75056   \\n\\n      duedate_year  duedate_month  duedate_day  duedate_weekday  \\\\\\n101           2024             10           22                1   \\n754           2024             10           22                1   \\n308           2024             10           26                5   \\n109           2024             10           22                1   \\n650           2024             10           20                6   \\n458           2024             10           20                6   \\n231           2024             10           26                5   \\n49            2024             10           25                4   \\n759           2024             10           22                1   \\n1092          2024             10           19                5   \\n\\n      duedate_weekend  \\n101                 0  \\n754                 0  \\n308                 1  \\n109                 0  \\n650                 1  \\n458                 1  \\n231                 1  \\n49                  0  \\n759                 0  \\n1092                1  ' with schema '['idx': string (required), 'stationcode': string (required), 'is_installed': long (required), 'capacity': long (required), 'numdocksavailable': long (required), 'mechanical': long (required), 'ebike': long (required), 'is_renting': long (required), 'is_returning': long (required), 'code_insee_commune': string (required), 'duedate_year': integer (required), 'duedate_month': integer (required), 'duedate_day': integer (required), 'duedate_weekday': integer (required), 'duedate_weekend': long (required)]'. Error: Incompatible input types for column idx. Can not safely convert string to <U0.\"). To see the full traceback, set the logging level to DEBUG via `logging.getLogger(\"mlflow\").setLevel(logging.DEBUG)`. To disable automatic signature inference, set `signature` to `False` in your `log_model` or `save_model` call.\n"
     ]
    },
    {
     "name": "stdout",
     "output_type": "stream",
     "text": [
      "Learning rate set to 0.213688\n",
      "0:\tlearn: 8.0950644\ttest: 8.1451373\tbest: 8.1451373 (0)\ttotal: 629us\tremaining: 62.3ms\n",
      "10:\tlearn: 1.7462678\ttest: 2.3358006\tbest: 2.3358006 (10)\ttotal: 4.76ms\tremaining: 38.5ms\n",
      "20:\tlearn: 0.7706031\ttest: 1.4830840\tbest: 1.4830840 (20)\ttotal: 9.41ms\tremaining: 35.4ms\n",
      "30:\tlearn: 0.5472353\ttest: 1.3399778\tbest: 1.3399778 (30)\ttotal: 13.3ms\tremaining: 29.7ms\n",
      "40:\tlearn: 0.4424857\ttest: 1.2863818\tbest: 1.2863818 (40)\ttotal: 17.4ms\tremaining: 25ms\n",
      "50:\tlearn: 0.3497947\ttest: 1.2408420\tbest: 1.2408420 (50)\ttotal: 23.1ms\tremaining: 22.2ms\n",
      "60:\tlearn: 0.3024409\ttest: 1.2060134\tbest: 1.2060134 (60)\ttotal: 27.3ms\tremaining: 17.4ms\n",
      "70:\tlearn: 0.2623036\ttest: 1.1866811\tbest: 1.1866811 (70)\ttotal: 31.5ms\tremaining: 12.9ms\n",
      "80:\tlearn: 0.2348587\ttest: 1.1675150\tbest: 1.1675150 (80)\ttotal: 35.5ms\tremaining: 8.32ms\n",
      "90:\tlearn: 0.2062557\ttest: 1.1525349\tbest: 1.1525349 (90)\ttotal: 39.8ms\tremaining: 3.93ms\n",
      "99:\tlearn: 0.1934106\ttest: 1.1467537\tbest: 1.1467537 (99)\ttotal: 43.6ms\tremaining: 0us\n",
      "\n",
      "bestTest = 1.146753669\n",
      "bestIteration = 99\n",
      "\n"
     ]
    },
    {
     "data": {
      "application/vnd.jupyter.widget-view+json": {
       "model_id": "c15f6fd6f273428a87df9a2a35a35277",
       "version_major": 2,
       "version_minor": 0
      },
      "text/plain": [
       "Downloading artifacts:   0%|          | 0/7 [00:00<?, ?it/s]"
      ]
     },
     "metadata": {},
     "output_type": "display_data"
    }
   ],
   "source": [
    "train_model_cv_mlflow(\n",
    "    run_name=\"Test_catboost\",\n",
    "    experiment_id=experiment_id,\n",
    "    list_train_valid=list_df,\n",
    "    feat_cat=feat_cat,\n",
    "    verbose=10,\n",
    "    **params_catboost\n",
    ")"
   ]
  }
 ],
 "metadata": {
  "kernelspec": {
   "display_name": ".venv",
   "language": "python",
   "name": "python3"
  },
  "language_info": {
   "codemirror_mode": {
    "name": "ipython",
    "version": 3
   },
   "file_extension": ".py",
   "mimetype": "text/x-python",
   "name": "python",
   "nbconvert_exporter": "python",
   "pygments_lexer": "ipython3",
   "version": "3.11.8"
  }
 },
 "nbformat": 4,
 "nbformat_minor": 2
}
